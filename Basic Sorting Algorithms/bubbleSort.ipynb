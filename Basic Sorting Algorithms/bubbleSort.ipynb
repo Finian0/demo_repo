{
 "cells": [
  {
   "cell_type": "code",
   "execution_count": 1,
   "metadata": {},
   "outputs": [],
   "source": [
    "def improved_bubble_sort(arr, asc = True):\n",
    "    \"\"\"\n",
    "    :param arr: list of integers\n",
    "    :param asc: optional flag to sort in ascending order if True and descending if False\n",
    "    :return: sorts the entries of arr using bubble sort algorithm in ascending/descending order according asc flag\n",
    "    \"\"\"\n",
    "\n",
    "    sortedFlag = False\n",
    "    length = len(arr)\n",
    "    if asc: # sort ascending\n",
    "        for iteration in range(length - 1):\n",
    "            sortedFlag = True\n",
    "            for loc in range(length - iteration - 1): # reduces range for each iteration\n",
    "                if arr[loc] > arr[loc + 1]:\n",
    "                    (arr[loc], arr[loc+1]) = (arr[loc+1], arr[loc]) # clean way to swap list entries\n",
    "                    sortedFlag = False\n",
    "            if sortedFlag: return\n",
    "\n",
    "    else: # sort descending\n",
    "        for iteration in range(length - 1):\n",
    "            sortedFlag = True\n",
    "            for loc in range(length - iteration - 1): # reduces range for each iteration\n",
    "                if arr[loc] < arr[loc + 1]:\n",
    "                    (arr[loc], arr[loc + 1]) = (arr[loc + 1], arr[loc]) # clean way to swap list entries\n",
    "                    sortedFlag = False\n",
    "            if sortedFlag: return"
   ]
  },
  {
   "cell_type": "code",
   "execution_count": 2,
   "metadata": {},
   "outputs": [
    {
     "name": "stdout",
     "output_type": "stream",
     "text": [
      "[1, 2, 3, 4, 5]\n"
     ]
    }
   ],
   "source": [
    "import random\n",
    "\n",
    "testArray = [5,3,4,2,1]\n",
    "testArray2 = list(range(1000))\n",
    "\n",
    "#random.shuffle(testArray2)\n",
    "#print(testArray2)\n",
    "\n",
    "improved_bubble_sort(testArray)\n",
    "print(testArray)"
   ]
  },
  {
   "cell_type": "code",
   "execution_count": null,
   "metadata": {},
   "outputs": [],
   "source": []
  }
 ],
 "metadata": {
  "kernelspec": {
   "display_name": "Python 3",
   "language": "python",
   "name": "python3"
  },
  "language_info": {
   "codemirror_mode": {
    "name": "ipython",
    "version": 3
   },
   "file_extension": ".py",
   "mimetype": "text/x-python",
   "name": "python",
   "nbconvert_exporter": "python",
   "pygments_lexer": "ipython3",
   "version": "3.10.13"
  }
 },
 "nbformat": 4,
 "nbformat_minor": 2
}
