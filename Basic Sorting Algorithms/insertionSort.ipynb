{
 "cells": [
  {
   "cell_type": "code",
   "execution_count": null,
   "metadata": {},
   "outputs": [],
   "source": [
    "def insertion_sort(arr, asc = True):\n",
    "\n",
    "    length = len(arr)\n",
    "    if asc: # sorts ascending\n",
    "        for iteration in range(length):\n",
    "            \n",
    "    else: # sorts descending "
   ]
  }
 ],
 "metadata": {
  "language_info": {
   "name": "python"
  }
 },
 "nbformat": 4,
 "nbformat_minor": 2
}
