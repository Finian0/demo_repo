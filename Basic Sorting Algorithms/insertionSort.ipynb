{
 "cells": [
  {
   "cell_type": "code",
   "execution_count": 1,
   "metadata": {},
   "outputs": [],
   "source": [
    "def insertion_sort(arr, asc = True):\n",
    "    \"\"\"\n",
    "    :param arr: list of integers\n",
    "    :param asc: optional flag to sort in ascending order if True and descending if False\n",
    "    :return: sorts the entries of arr using insertion algorithm in ascending/descending order according to asc flag\n",
    "    \"\"\"\n",
    "    length = len(arr)\n",
    "    if asc: # sorts ascending\n",
    "        for iteration in range(1,length):\n",
    "            unsortedElement = iteration\n",
    "            while(unsortedElement > 0 and arr[unsortedElement] < arr[unsortedElement-1]): \n",
    "                # Swaps unsortedElement if the number to the left is smaller and the index is greater than 0\n",
    "                (arr[unsortedElement], arr[unsortedElement-1]) = (arr[unsortedElement-1], arr[unsortedElement])\n",
    "                unsortedElement -= 1\n",
    "    else: # sorts descending\n",
    "        for iteration in range(1,length):\n",
    "            unsortedElement = iteration\n",
    "            while(unsortedElement > 0 and arr[unsortedElement] > arr[unsortedElement-1]):\n",
    "                # Swaps unsortedElement if the number to the right is smaller\n",
    "                (arr[unsortedElement], arr[unsortedElement-1]) = (arr[unsortedElement-1], arr[unsortedElement])\n",
    "                unsortedElement -= 1"
   ]
  },
  {
   "cell_type": "code",
   "execution_count": 2,
   "metadata": {},
   "outputs": [
    {
     "name": "stdout",
     "output_type": "stream",
     "text": [
      "[1, 2, 3, 4, 5]\n"
     ]
    }
   ],
   "source": [
    "import random\n",
    "\n",
    "testArray = [5,3,4,2,1]\n",
    "testArray2 = list(range(1000))\n",
    "\n",
    "#random.shuffle(testArray2)\n",
    "#print(testArray)\n",
    "\n",
    "insertion_sort(testArray)\n",
    "print(testArray)"
   ]
  },
  {
   "cell_type": "code",
   "execution_count": null,
   "metadata": {},
   "outputs": [],
   "source": []
  }
 ],
 "metadata": {
  "kernelspec": {
   "display_name": "Python 3",
   "language": "python",
   "name": "python3"
  },
  "language_info": {
   "codemirror_mode": {
    "name": "ipython",
    "version": 3
   },
   "file_extension": ".py",
   "mimetype": "text/x-python",
   "name": "python",
   "nbconvert_exporter": "python",
   "pygments_lexer": "ipython3",
   "version": "3.10.13"
  }
 },
 "nbformat": 4,
 "nbformat_minor": 2
}
