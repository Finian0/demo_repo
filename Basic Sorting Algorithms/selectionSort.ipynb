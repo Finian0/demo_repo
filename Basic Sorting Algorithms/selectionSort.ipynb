{
 "cells": [
  {
   "cell_type": "code",
   "execution_count": 7,
   "metadata": {},
   "outputs": [],
   "source": [
    "def selection_sort(arr, asc = True):\n",
    "    \"\"\"\n",
    "    :param arr: list of integers\n",
    "    :param asc: optional flag to sort in ascending order if True and descending if False\n",
    "    :return: sorts the entries of arr using selection sort algorithm in ascending/descending order according to asc flag\n",
    "    \"\"\"\n",
    "    length = len(arr)\n",
    "    if asc: # sorts ascending\n",
    "        for iteration in range(length):\n",
    "            smallestElement = iteration\n",
    "            for nextElement in range(iteration + 1, length):\n",
    "                if arr[nextElement] < arr[smallestElement]:\n",
    "                    smallestElement = nextElement\n",
    "            # Swaps current place in the array with the smallest element in the unsorted part of the array\n",
    "            (arr[iteration], arr[smallestElement]) = (arr[smallestElement], arr[iteration])\n",
    "    else: # sorts descending\n",
    "        for iteration in range(length):\n",
    "            largestElement = iteration\n",
    "            for nextElement in range(iteration + 1, length):\n",
    "                if arr[nextElement] > arr[largestElement]:\n",
    "                    largestElement = nextElement\n",
    "            # Swaps current place in the array with the largest element in the unsorted part of the array\n",
    "            (arr[iteration], arr[largestElement]) = (arr[largestElement], arr[iteration])"
   ]
  },
  {
   "cell_type": "code",
   "execution_count": 24,
   "metadata": {},
   "outputs": [
    {
     "name": "stdout",
     "output_type": "stream",
     "text": [
      "[5, 4, 3, 2, 1]\n"
     ]
    }
   ],
   "source": [
    "import random\n",
    "\n",
    "testArray = [5,3,4,2,1]\n",
    "testArray2 = list(range(1000))\n",
    "\n",
    "#random.shuffle(testArray)\n",
    "#print(testArray)\n",
    "\n",
    "selection_sort(testArray, False)\n",
    "print(testArray)"
   ]
  },
  {
   "cell_type": "code",
   "execution_count": null,
   "metadata": {},
   "outputs": [],
   "source": []
  },
  {
   "cell_type": "code",
   "execution_count": null,
   "metadata": {},
   "outputs": [],
   "source": []
  }
 ],
 "metadata": {
  "kernelspec": {
   "display_name": "Python 3",
   "language": "python",
   "name": "python3"
  },
  "language_info": {
   "codemirror_mode": {
    "name": "ipython",
    "version": 3
   },
   "file_extension": ".py",
   "mimetype": "text/x-python",
   "name": "python",
   "nbconvert_exporter": "python",
   "pygments_lexer": "ipython3",
   "version": "3.10.13"
  }
 },
 "nbformat": 4,
 "nbformat_minor": 2
}
