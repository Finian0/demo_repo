{
 "cells": [
  {
   "cell_type": "markdown",
   "metadata": {},
   "source": [
    "### Pseudocode for generate_tilings\n",
    "```java\n",
    "INITIALIZE tilesSolutions as an empty array\n",
    "FUNCTION generate_tilings(partial_tiling,length)\n",
    "    IF length == 0\n",
    "        GLOBAL tilesSolutions\n",
    "        ADD partial_tiling to tilesSolutions\n",
    "    ELSE\n",
    "        FOR tile in range 1 to length + 1\n",
    "            INITIALIZE partial_tiling_copy as copy of partial_tiling\n",
    "            IF length >= tile\n",
    "                ADD tile to partial_tiling_copy\n",
    "                SET newlength = length - tile\n",
    "                CALL generate_tilings(partial_tiling_copy, newLength)\n",
    "            END IF \n",
    "        END FOR\n",
    "    END IF \n",
    "END FUNCTION\n",
    "```"
   ]
  },
  {
   "cell_type": "code",
   "execution_count": 1,
   "metadata": {},
   "outputs": [],
   "source": [
    "# Black : 1, Red : 2, Green : 3, Blue : 4\n",
    "tilesSolutions = []\n",
    "def generate_tilings(partial_tiling, length):\n",
    "    \"\"\"\n",
    "    :param partial_tiling: empty list that will be filled through recursion\n",
    "    :param length: total length available\n",
    "    :return: nothing, program will modify global variable\n",
    "    \"\"\"\n",
    "    # Solution Found\n",
    "    if length == 0:\n",
    "        global tilesSolutions\n",
    "        tilesSolutions.append(partial_tiling)\n",
    "    # Continue to search for solutions\n",
    "    else:\n",
    "        for tile in range(1,length+1):\n",
    "            partial_tiling_copy = partial_tiling.copy()\n",
    "            if(length >= tile):\n",
    "                # Only continue if tile can fit into the remaining length\n",
    "                partial_tiling_copy.append(tile)\n",
    "                newLength = length - tile\n",
    "                generate_tilings(partial_tiling_copy,newLength) # Uses recursion here"
   ]
  },
  {
   "cell_type": "code",
   "execution_count": 2,
   "metadata": {},
   "outputs": [
    {
     "name": "stdout",
     "output_type": "stream",
     "text": [
      "[[1, 1, 1, 1], [1, 1, 2], [1, 2, 1], [1, 3], [2, 1, 1], [2, 2], [3, 1], [4]]\n"
     ]
    }
   ],
   "source": [
    "generate_tilings([],4)\n",
    "\n",
    "global tilesSolutions\n",
    "print(tilesSolutions)"
   ]
  },
  {
   "cell_type": "markdown",
   "metadata": {},
   "source": [
    "### Pseudocode for subeset_sum\n",
    "```java\n",
    "INITIALIZE solutions as an empty array\n",
    "FUNCTION subset_sum(partial_sum, remaining_ints, target)\n",
    "    IF target == 0\n",
    "        GLOBAL solutions\n",
    "        ADD partial_sum to solutions\n",
    "    ELSE\n",
    "        FOR selectedInteger in remaining_ints\n",
    "            INITIALIZE partial_sum_copy as copy of partial_sum\n",
    "            IF selectedInteger <= target\n",
    "                ADD selectedInteger to partial_sum_copy\n",
    "                INITIALIZE updatedTarget = target - selectedInteger\n",
    "                INITIALIZE remaining_ints_copy as copy of remaining_ints from selectedInteger to end\n",
    "                REMOVE selectedInteger from remaining_ints_copy\n",
    "                CALL subset_sum(partial_sum_copy,remaining_ints_copy,updatedTarget)\n",
    "            END IF \n",
    "        END FOR\n",
    "    END IF\n",
    "END FUNCTION\n",
    "```"
   ]
  },
  {
   "cell_type": "code",
   "execution_count": 8,
   "metadata": {},
   "outputs": [
    {
     "name": "stdout",
     "output_type": "stream",
     "text": [
      "[[1, 2, 3], [1, 5], [2, 4], [6]]\n"
     ]
    }
   ],
   "source": [
    "solutions = list()\n",
    "def subset_sum(partial_sum, remaining_ints, target):\n",
    "    \"\"\"\n",
    "    :param partial_sum: list that collects current solutions through recursion. Leave EMPTY as the start\n",
    "    :param remaining_ints: list of ints that can be added up to reach target\n",
    "    :param target: number to reach \n",
    "    :return: nothing. Modifies global variable solutions[]\n",
    "    \"\"\"\n",
    "    # Solution found\n",
    "    if target == 0:\n",
    "        global solutions\n",
    "        solutions.append(partial_sum)\n",
    "    # Continue searching\n",
    "    else:\n",
    "        for selectedInteger in remaining_ints:\n",
    "            partial_sum_copy = partial_sum.copy()\n",
    "            if selectedInteger <= target:\n",
    "                partial_sum_copy.append(selectedInteger)\n",
    "                updatedTarget = target - selectedInteger\n",
    "                remaining_ints_copy = remaining_ints[remaining_ints.index(selectedInteger)+1:].copy() # Removes list entries from the left of selectedInteger\n",
    "                subset_sum(partial_sum_copy, remaining_ints_copy, updatedTarget)\n",
    "\n",
    "listIntegers = [1,2,3,4,5,6,7]\n",
    "target = 6\n",
    "subset_sum([],listIntegers,target)\n",
    "print(solutions)"
   ]
  }
 ],
 "metadata": {
  "kernelspec": {
   "display_name": "Python 3",
   "language": "python",
   "name": "python3"
  },
  "language_info": {
   "codemirror_mode": {
    "name": "ipython",
    "version": 3
   },
   "file_extension": ".py",
   "mimetype": "text/x-python",
   "name": "python",
   "nbconvert_exporter": "python",
   "pygments_lexer": "ipython3",
   "version": "3.10.13"
  }
 },
 "nbformat": 4,
 "nbformat_minor": 2
}
