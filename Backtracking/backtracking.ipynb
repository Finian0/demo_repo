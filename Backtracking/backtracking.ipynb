{
 "cells": [
  {
   "cell_type": "markdown",
   "metadata": {},
   "source": [
    "### Pseudocode for generate_tilings\n",
    "```java\n",
    "INITIALIZE tilesSolutions as an empty array\n",
    "FUNCTION generate_tilings(partial_tiling,length)\n",
    "    IF length == 0\n",
    "        GLOBAL tilesSolutions\n",
    "        ADD partial_tiling to tilesSolutions\n",
    "    ELSE\n",
    "        FOR tile in range 1 to length + 1\n",
    "            INITIALIZE partial_tiling_copy as copy of partial_tiling\n",
    "            IF length >= tile\n",
    "                ADD tile to partial_tiling_copy\n",
    "                SET newlength = length - tile\n",
    "                CALL generate_tilings(partial_tiling_copy, newLength)\n",
    "            END IF \n",
    "        END FOR\n",
    "    END IF \n",
    "END FUNCTION\n",
    "```"
   ]
  },
  {
   "cell_type": "code",
   "execution_count": 43,
   "metadata": {},
   "outputs": [],
   "source": [
    "# Black : 1, Red : 2, Green : 3, Blue : 4\n",
    "tilesSolutions = []\n",
    "def generate_tilings(partial_tiling, length):\n",
    "    \"\"\"\n",
    "    :param partial_tiling: empty list that will be filled through recursion\n",
    "    :param length: total length available\n",
    "    :return: nothing, program will modify global variable\n",
    "    \"\"\"\n",
    "    # Solution Found\n",
    "    if length == 0:\n",
    "        global tilesSolutions\n",
    "        tilesSolutions.append(partial_tiling)\n",
    "    # Continue to search for solutions\n",
    "    else:\n",
    "        for tile in range(1,length+1):\n",
    "            partial_tiling_copy = partial_tiling.copy()\n",
    "            if(length >= tile):\n",
    "                # Only continue if tile can fit into the remaining length\n",
    "                partial_tiling_copy.append(tile)\n",
    "                newLength = length - tile\n",
    "                generate_tilings(partial_tiling_copy,newLength) # Uses recursion here"
   ]
  },
  {
   "cell_type": "code",
   "execution_count": 44,
   "metadata": {},
   "outputs": [
    {
     "name": "stdout",
     "output_type": "stream",
     "text": [
      "[[1, 1, 1, 1], [1, 1, 2], [1, 2, 1], [1, 3], [2, 1, 1], [2, 2], [3, 1], [4]]\n"
     ]
    }
   ],
   "source": [
    "generate_tilings([],4)\n",
    "\n",
    "global tilesSolutions\n",
    "print(tilesSolutions)"
   ]
  }
 ],
 "metadata": {
  "kernelspec": {
   "display_name": "Python 3",
   "language": "python",
   "name": "python3"
  },
  "language_info": {
   "codemirror_mode": {
    "name": "ipython",
    "version": 3
   },
   "file_extension": ".py",
   "mimetype": "text/x-python",
   "name": "python",
   "nbconvert_exporter": "python",
   "pygments_lexer": "ipython3",
   "version": "3.10.13"
  }
 },
 "nbformat": 4,
 "nbformat_minor": 2
}
