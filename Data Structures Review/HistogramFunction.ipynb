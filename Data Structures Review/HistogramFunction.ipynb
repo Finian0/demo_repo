{
 "cells": [
  {
   "cell_type": "code",
   "execution_count": 7,
   "metadata": {},
   "outputs": [],
   "source": [
    "def histogram(string_list):\n",
    "    '''\n",
    "    :param string_list: list of strings\n",
    "    :return: returns a dictionary of the number of times a word appears in the list\n",
    "    '''\n",
    "    histogramDict = dict()\n",
    "    for word in string_list:\n",
    "        if word in histogramDict.keys():\n",
    "            histogramDict[word] += 1\n",
    "        else:\n",
    "            histogramDict[word] = 1\n",
    "    return histogramDict"
   ]
  },
  {
   "cell_type": "code",
   "execution_count": 9,
   "metadata": {},
   "outputs": [
    {
     "name": "stdout",
     "output_type": "stream",
     "text": [
      "{'a': 1, 'c': 2, 'b': 1}\n",
      "{'word': 3, 'text': 1, 'string': 1}\n"
     ]
    }
   ],
   "source": [
    "stringList = ['a','c','b','c']\n",
    "stringList2 = ['word','text','word','word','string']\n",
    "\n",
    "print(histogram(stringList))\n",
    "print(histogram(stringList2))"
   ]
  },
  {
   "cell_type": "code",
   "execution_count": 24,
   "metadata": {},
   "outputs": [],
   "source": [
    "def reverseTuple(tupleSet1, tupleSet2):\n",
    "    '''\n",
    "    :params tupleSet1, tupleSet2: tuples within a set\n",
    "    :return: returns true if a reverse entry in tupleSet1 exists within tupleSet2 otherwise false\n",
    "    '''\n",
    "    for entry in tupleSet1:\n",
    "        if (entry[1],entry[0]) in tupleSet2:\n",
    "            return True\n",
    "    return False  "
   ]
  },
  {
   "cell_type": "code",
   "execution_count": 26,
   "metadata": {},
   "outputs": [
    {
     "name": "stdout",
     "output_type": "stream",
     "text": [
      "True\n",
      "False\n"
     ]
    }
   ],
   "source": [
    "tupleSet1 = {(1,2), (3,4)}\n",
    "tupleSet2 = {(2,1), (5,6)}\n",
    "tupleSet3 = {(1,2), (3,4)}\n",
    "tupleSet4 = {(1,2), (2,3)}\n",
    "\n",
    "print(reverseTuple(tupleSet1, tupleSet2))\n",
    "print(reverseTuple(tupleSet3, tupleSet4))"
   ]
  }
 ],
 "metadata": {
  "kernelspec": {
   "display_name": "Python 3",
   "language": "python",
   "name": "python3"
  },
  "language_info": {
   "codemirror_mode": {
    "name": "ipython",
    "version": 3
   },
   "file_extension": ".py",
   "mimetype": "text/x-python",
   "name": "python",
   "nbconvert_exporter": "python",
   "pygments_lexer": "ipython3",
   "version": "3.10.13"
  }
 },
 "nbformat": 4,
 "nbformat_minor": 2
}
