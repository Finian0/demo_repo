{
 "cells": [
  {
   "cell_type": "code",
   "execution_count": 1,
   "metadata": {},
   "outputs": [],
   "source": [
    "class Point:\n",
    "    '''\n",
    "    Represents a point in 2D space\n",
    "\n",
    "    attributes: x, y\n",
    "    '''\n",
    "\n",
    "\n",
    "# One purpose of classes is to bundle together (encapsulate) related data so it can be\n",
    "# reused in other classes/functions.\n",
    "class Rectangle:\n",
    "    '''\n",
    "    Represents a rectangle with lower left corner at corner.\n",
    "\n",
    "    attributes: corner (Point object), height (float), width (float)\n",
    "    '''\n",
    "\n",
    "def get_corners(rectangle):\n",
    "    pointsList = []\n",
    "    selectedCorner = Point()\n",
    "    \n",
    "    selectedCorner.x = rectangle.corner.x\n",
    "    selectedCorner.y = rectangle.corner.y\n",
    "    pointsList.append(selectedCorner)\n",
    "\n",
    "    selectedCorner.x = rectangle.corner.x\n",
    "    selectedCorner.y = rectangle.corner.y + rectangle.height\n",
    "    pointsList.append(selectedCorner)\n",
    "\n",
    "    selectedCorner.x = rectangle.corner.x + rectangle.width\n",
    "    selectedCorner.y = rectangle.corner.y + rectangle.height\n",
    "    pointsList.append(selectedCorner)\n",
    "\n",
    "    selectedCorner.x = rectangle.corner.x + rectangle.width\n",
    "    selectedCorner.y = rectangle.corner.y\n",
    "    pointsList.append(selectedCorner)\n",
    "\n",
    "    return pointsList"
   ]
  },
  {
   "cell_type": "code",
   "execution_count": 2,
   "metadata": {},
   "outputs": [
    {
     "data": {
      "text/plain": [
       "[<__main__.Point at 0x7f8e74592650>,\n",
       " <__main__.Point at 0x7f8e74592650>,\n",
       " <__main__.Point at 0x7f8e74592650>,\n",
       " <__main__.Point at 0x7f8e74592650>]"
      ]
     },
     "execution_count": 2,
     "metadata": {},
     "output_type": "execute_result"
    }
   ],
   "source": [
    "exampleRectangle = Rectangle()\n",
    "point = Point()\n",
    "point.x = 0\n",
    "point.y = 0\n",
    "exampleRectangle.corner = point\n",
    "exampleRectangle.height = 3.0\n",
    "exampleRectangle.width = 2.0\n",
    "\n",
    "get_corners(exampleRectangle)"
   ]
  }
 ],
 "metadata": {
  "kernelspec": {
   "display_name": "Python 3",
   "language": "python",
   "name": "python3"
  },
  "language_info": {
   "codemirror_mode": {
    "name": "ipython",
    "version": 3
   },
   "file_extension": ".py",
   "mimetype": "text/x-python",
   "name": "python",
   "nbconvert_exporter": "python",
   "pygments_lexer": "ipython3",
   "version": "3.10.13"
  }
 },
 "nbformat": 4,
 "nbformat_minor": 2
}
