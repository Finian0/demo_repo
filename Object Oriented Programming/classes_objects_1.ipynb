{
 "cells": [
  {
   "cell_type": "code",
   "execution_count": 22,
   "metadata": {},
   "outputs": [],
   "source": [
    "import math\n",
    "\n",
    "class Point:\n",
    "    '''\n",
    "    Represents a point in 2D space\n",
    "\n",
    "    attributes: x, y\n",
    "    '''\n",
    "\n",
    "\n",
    "# One purpose of classes is to bundle together (encapsulate) related data so it can be\n",
    "# reused in other classes/functions.\n",
    "class Rectangle:\n",
    "    '''\n",
    "    Represents a rectangle with lower left corner at corner.\n",
    "\n",
    "    attributes: corner (Point object), height (float), width (float)\n",
    "    '''\n",
    "\n",
    "class Circle:\n",
    "    '''\n",
    "    Represents a circle with a center and a radius\n",
    "\n",
    "    Attributes: center (Point object), radius (float)\n",
    "    '''\n",
    "\n",
    "def get_corners(rectangle):\n",
    "    pointsList = []\n",
    "    \n",
    "    corner1 = Point()\n",
    "    corner1.x = rectangle.corner.x\n",
    "    corner1.y = rectangle.corner.y\n",
    "    pointsList.append(corner1)\n",
    "\n",
    "    corner2 = Point()\n",
    "    corner2.x = rectangle.corner.x\n",
    "    corner2.y = rectangle.corner.y + rectangle.height\n",
    "    pointsList.append(corner2)\n",
    "\n",
    "    corner3 = Point()\n",
    "    corner3.x = rectangle.corner.x + rectangle.width\n",
    "    corner3.y = rectangle.corner.y + rectangle.height\n",
    "    pointsList.append(corner3)\n",
    "\n",
    "    corner4 = Point()\n",
    "    corner4.x = rectangle.corner.x + rectangle.width\n",
    "    corner4.y = rectangle.corner.y\n",
    "    pointsList.append(corner4)\n",
    "\n",
    "    return pointsList\n",
    "\n",
    "def distance(point1, point2):\n",
    "    return math.sqrt((point2.x - point1.x)**2 + (point2.y - point1.y)**2)"
   ]
  },
  {
   "cell_type": "code",
   "execution_count": 28,
   "metadata": {},
   "outputs": [
    {
     "name": "stdout",
     "output_type": "stream",
     "text": [
      "1 1\n",
      "1 4.0\n",
      "3.0 4.0\n",
      "3.0 1\n",
      "\n",
      "4.242640687119285\n",
      "\n"
     ]
    }
   ],
   "source": [
    "exampleRectangle = Rectangle()\n",
    "point = Point()\n",
    "point.x = 1\n",
    "point.y = 1\n",
    "exampleRectangle.corner = point\n",
    "exampleRectangle.height = 3.0\n",
    "exampleRectangle.width = 2.0\n",
    "\n",
    "points = get_corners(exampleRectangle)\n",
    "for p in points:\n",
    "    print(p.x, p.y)\n",
    "\n",
    "print()\n",
    "\n",
    "point1 = Point()\n",
    "point2 = Point()\n",
    "point1.x = 1\n",
    "point1.y = 2\n",
    "point2.x = 4\n",
    "point2.y = 5\n",
    "\n",
    "pdistance = distance(point1, point2)\n",
    "print(pdistance)\n",
    "print()"
   ]
  },
  {
   "cell_type": "code",
   "execution_count": 29,
   "metadata": {},
   "outputs": [
    {
     "name": "stdout",
     "output_type": "stream",
     "text": [
      "True\n"
     ]
    }
   ],
   "source": [
    "def point_in_circle(circle, point):\n",
    "    if distance(point, circle.center) > circle.radius:\n",
    "        return False\n",
    "    else:\n",
    "        return True\n",
    "\n",
    "circle = Circle()\n",
    "centerPoint = Point()\n",
    "pointC = Point()\n",
    "centerPoint.x = 0\n",
    "centerPoint.y = 0\n",
    "circle.center = centerPoint\n",
    "circle.radius = 2\n",
    "pointC.x = 0\n",
    "pointC.y = 2\n",
    "\n",
    "print(point_in_circle(circle, pointC))"
   ]
  },
  {
   "cell_type": "code",
   "execution_count": 33,
   "metadata": {},
   "outputs": [
    {
     "name": "stdout",
     "output_type": "stream",
     "text": [
      "False\n",
      "True\n"
     ]
    }
   ],
   "source": [
    "def rect_in_circle(circle, rectangle):\n",
    "    corners = get_corners(rectangle)\n",
    "    for point in corners:\n",
    "        if not point_in_circle(circle, point):\n",
    "            return False\n",
    "    return True\n",
    "\n",
    "circle = Circle()\n",
    "centerPoint = Point()\n",
    "rectangle = Rectangle()\n",
    "corner = Point()\n",
    "centerPoint.x = 1\n",
    "centerPoint.y = 2 \n",
    "circle.center = centerPoint\n",
    "circle.radius = 1\n",
    "\n",
    "corner.x = 1\n",
    "corner.y = 2\n",
    "rectangle.corner = corner\n",
    "rectangle.height = 3\n",
    "rectangle.width = 4\n",
    "\n",
    "print(rect_in_circle(circle, rectangle))\n",
    "\n",
    "circle2 = Circle()\n",
    "centerPoint2 = Point()\n",
    "rectangle2 = Rectangle()\n",
    "corner2 = Point()\n",
    "centerPoint2.x = 1\n",
    "centerPoint2.y = 1 \n",
    "circle2.center = centerPoint2\n",
    "circle2.radius = 5\n",
    "\n",
    "corner2.x = 0\n",
    "corner2.y = 0\n",
    "rectangle2.corner = corner2\n",
    "rectangle2.height = 1\n",
    "rectangle2.width = 1\n",
    "\n",
    "print(rect_in_circle(circle2, rectangle2))"
   ]
  }
 ],
 "metadata": {
  "kernelspec": {
   "display_name": "Python 3",
   "language": "python",
   "name": "python3"
  },
  "language_info": {
   "codemirror_mode": {
    "name": "ipython",
    "version": 3
   },
   "file_extension": ".py",
   "mimetype": "text/x-python",
   "name": "python",
   "nbconvert_exporter": "python",
   "pygments_lexer": "ipython3",
   "version": "3.10.13"
  }
 },
 "nbformat": 4,
 "nbformat_minor": 2
}
