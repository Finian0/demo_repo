{
 "cells": [
  {
   "cell_type": "code",
   "execution_count": 5,
   "metadata": {},
   "outputs": [],
   "source": [
    "def substitution_encrypt(plaintext_file, ciphertext_file, cipher_alphabet):\n",
    "    with open(plaintext_file, 'r') as read_plaintext:\n",
    "        with open(ciphertext_file, 'w') as write_ciphertext:\n",
    "            duplicateCheck = set()\n",
    "            for letter in cipher_alphabet.values():\n",
    "                duplicateCheck.add(letter)\n",
    "            if len(duplicateCheck) != len(cipher_alphabet.keys()): \n",
    "                print(\"Error: Cipher alphabet has letters mapped to the same cipher\")\n",
    "                return\n",
    "\n",
    "            for line in read_plaintext: \n",
    "                encryptedLine = ''\n",
    "                for letter in line:\n",
    "                    if letter not in cipher_alphabet:\n",
    "                        encryptedLine += letter\n",
    "                    else:\n",
    "                        encryptedLine += cipher_alphabet[letter]\n",
    "                write_ciphertext.write(encryptedLine)\n",
    "    \n",
    "def substitution_decrypt(ciphertext_file, plaintext_file, cipher_alphabet):\n",
    "    with open(ciphertext_file, 'r') as read_ciphertext:\n",
    "        with open(plaintext_file, 'w') as write_plaintext:\n",
    "            duplicateCheck = set()\n",
    "            for letter in cipher_alphabet.values():\n",
    "                duplicateCheck.add(letter)\n",
    "            if len(duplicateCheck) != len(cipher_alphabet.keys()): \n",
    "                print(\"Error: Cipher alphabet has letters mapped to the same cipher\")\n",
    "                return\n",
    "            \n",
    "            for line in read_ciphertext:\n",
    "                decryptedLine = ''\n",
    "                for letter in line: \n",
    "                    if letter not in cipher_alphabet:\n",
    "                        decryptedLine += letter\n",
    "                    else:\n",
    "                        decryptedLine += cipher_alphabet[letter]\n",
    "                write_plaintext.write(decryptedLine)\n",
    "\n"
   ]
  },
  {
   "cell_type": "markdown",
   "metadata": {},
   "source": [
    "## Work Log\n",
    "### Jack: Keyword Cipher, Generic Cipher\n",
    "### Ben: Generic Cipher, Ceasar Cipher, Atbash Cipher, Rot-13\n",
    "### Fin: Generic Cipher, Affine Cipher\n",
    "### Andrew: Keyword Cipher"
   ]
  },
  {
   "cell_type": "code",
   "execution_count": 14,
   "metadata": {},
   "outputs": [],
   "source": [
    "def keyword_encrypt(plaintext_file, ciphertext_file, keyword):\n",
    "\n",
    "    alphabet = [\"a\", \"b\", \"c\", \"d\", 'e', 'f', 'g', 'h', 'i', 'j', 'k', 'l', 'm', 'n', 'o', 'p', 'q', 'r', 's', 't', 'u', 'v', 'w', 'x', 'y', 'z']\n",
    "    keyword1 = keyword.lower()\n",
    "    keyword_Alphabet = list()\n",
    "    cipher_alphabet = dict()\n",
    "\n",
    "    for letter in keyword1:\n",
    "        keyword_Alphabet.append(letter)\n",
    "\n",
    "    for letter in alphabet:\n",
    "        if letter not in keyword_Alphabet:\n",
    "            keyword_Alphabet.append(letter)\n",
    "\n",
    "    for loc in range(26):\n",
    "        cipher_alphabet[alphabet[loc]] = keyword_Alphabet[loc]\n",
    "\n",
    "    substitution_encrypt(plaintext_file, ciphertext_file, cipher_alphabet)\n",
    "\n",
    "\n",
    "keyword_encrypt('plaintext.txt', 'ciphertext.txt', \"zebras\")\n",
    "\n"
   ]
  },
  {
   "cell_type": "code",
   "execution_count": 17,
   "metadata": {},
   "outputs": [],
   "source": [
    "def keyword_decrypt(ciphertext_file, plaintext_file, keyword):\n",
    "\n",
    "    alphabet = [\"a\", \"b\", \"c\", \"d\", 'e', 'f', 'g', 'h', 'i', 'j', 'k', 'l', 'm', 'n', 'o', 'p', 'q', 'r', 's', 't', 'u', 'v', 'w', 'x', 'y', 'z']\n",
    "    keyword1 = keyword.lower()\n",
    "    keyword_Alphabet = list()\n",
    "    cipher_alphabet = dict()\n",
    "\n",
    "    for letter in keyword1:\n",
    "        keyword_Alphabet.append(letter)\n",
    "\n",
    "    for letter in alphabet:\n",
    "        if letter not in keyword_Alphabet:\n",
    "            keyword_Alphabet.append(letter)\n",
    "\n",
    "    for loc in range(26):\n",
    "        cipher_alphabet[alphabet[loc]] = keyword_Alphabet[loc]\n",
    "\n",
    "    substitution_encrypt(ciphertext_file, plaintext_file, cipher_alphabet)\n",
    "\n",
    "\n",
    "keyword_Encrypt('ciphertext.txt', 'plaintext.txt', \"zebras\")"
   ]
  },
  {
   "cell_type": "code",
   "execution_count": null,
   "metadata": {},
   "outputs": [],
   "source": [
    "def keywordCipherDecrypt(keyword):\n",
    "\n",
    "    alphabet = [\"a\", \"b\", \"c\", \"d\", 'e', 'f', 'g', 'h', 'i', 'j', 'k', 'l', 'm', 'n', 'o', 'p', 'q', 'r', 's', 't', 'u', 'v', 'w', 'x', 'y', 'z']\n",
    "\n",
    "    keyword1 = keyword.lower()\n",
    "    keyword_Alphabet = list()\n",
    "    cipher_alphabet = dict()\n",
    "\n",
    "    for letter in keyword1:\n",
    "        keyword_Alphabet.append(letter)\n",
    "\n",
    "    for letter in alphabet:\n",
    "        if letter not in keyword_Alphabet:\n",
    "            keyword_Alphabet.append(letter)\n",
    "\n",
    "    for loc in range(26):\n",
    "        cipher_alphabet[alphabet[loc]] = keyword_Alphabet[loc]\n",
    "\n",
    "    \n"
   ]
  }
 ],
 "metadata": {
  "kernelspec": {
   "display_name": "Python 3",
   "language": "python",
   "name": "python3"
  },
  "language_info": {
   "codemirror_mode": {
    "name": "ipython",
    "version": 3
   },
   "file_extension": ".py",
   "mimetype": "text/x-python",
   "name": "python",
   "nbconvert_exporter": "python",
   "pygments_lexer": "ipython3",
   "version": "3.11.4"
  }
 },
 "nbformat": 4,
 "nbformat_minor": 2
}
