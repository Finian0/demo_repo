{
 "cells": [
  {
   "cell_type": "code",
   "execution_count": 14,
   "metadata": {},
   "outputs": [],
   "source": [
    "def substitution_encrypt(plaintext_file, ciphertext_file, cipher_alphabet):\n",
    "    with open(plaintext_file, 'r') as read_plaintext:\n",
    "        with open(ciphertext_file, 'w') as write_ciphertext:\n",
    "            for line in read_plaintext:\n",
    "                encryptedLine = ''\n",
    "                for letter in line:\n",
    "                    encryptedLine += cipher_alphabet[letter]\n",
    "                write_ciphertext.write(encryptedLine)\n",
    "    \n",
    "def substitution_decrypt(ciphertext_file, plaintext_file, cipher_alphabet):\n",
    "    with open(ciphertext_file, 'r') as read_ciphertext:\n",
    "        with open(plaintext_file, 'w') as write_plaintext:\n",
    "            "
   ]
  },
  {
   "cell_type": "code",
   "execution_count": 15,
   "metadata": {},
   "outputs": [],
   "source": [
    "cipher_alphabet = {\n",
    "    \"a\": \"z\",\n",
    "    \"b\": \"e\",\n",
    "    \"c\": \"b\",\n",
    "    \"d\": \"r\",\n",
    "    \" \": \" \",\n",
    "    \"\\n\": \"\\n\",\n",
    "}\n",
    "\n",
    "substitution_encrypt('plainText.txt', 'cipherText.txt', cipher_alphabet)"
   ]
  }
 ],
 "metadata": {
  "kernelspec": {
   "display_name": "Python 3",
   "language": "python",
   "name": "python3"
  },
  "language_info": {
   "codemirror_mode": {
    "name": "ipython",
    "version": 3
   },
   "file_extension": ".py",
   "mimetype": "text/x-python",
   "name": "python",
   "nbconvert_exporter": "python",
   "pygments_lexer": "ipython3",
   "version": "3.10.13"
  }
 },
 "nbformat": 4,
 "nbformat_minor": 2
}
