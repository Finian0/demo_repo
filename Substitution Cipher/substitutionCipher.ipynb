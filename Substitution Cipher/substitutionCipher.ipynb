{
 "cells": [
  {
   "cell_type": "code",
   "execution_count": 8,
   "metadata": {},
   "outputs": [],
   "source": [
    "def substitution_encrypt(plaintext_file, ciphertext_file, cipher_alphabet):\n",
    "    with open(plaintext_file, 'r') as read_plaintext:\n",
    "        with open(ciphertext_file, 'w') as write_ciphertext:\n",
    "            duplicateCheck = set()\n",
    "            for letter in cipher_alphabet.values():\n",
    "                duplicateCheck.add(letter)\n",
    "            if len(duplicateCheck) != len(cipher_alphabet.keys()): \n",
    "                print(\"Error: Cipher alphabet has letters mapped to the same cipher\")\n",
    "                return\n",
    "\n",
    "            for line in read_plaintext:\n",
    "                encryptedLine = ''\n",
    "                for letter in line:\n",
    "                    if letter not in cipher_alphabet:\n",
    "                        encryptedLine += letter\n",
    "                    else:\n",
    "                        encryptedLine += cipher_alphabet[letter]\n",
    "                write_ciphertext.write(encryptedLine)\n",
    "    \n",
    "def substitution_decrypt(ciphertext_file, plaintext_file, cipher_alphabet):\n",
    "    with open(ciphertext_file, 'r') as read_ciphertext:\n",
    "        with open(plaintext_file, 'w') as write_plaintext:\n",
    "            duplicateCheck = set()\n",
    "            for letter in cipher_alphabet.values():\n",
    "                duplicateCheck.add(letter)\n",
    "            if len(duplicateCheck) != len(cipher_alphabet.keys()): \n",
    "                print(\"Error: Cipher alphabet has letters mapped to the same cipher\")\n",
    "                return\n",
    "            \n",
    "            for line in read_ciphertext:\n",
    "                decryptedLine = ''\n",
    "                for letter in line: \n",
    "                    if letter not in cipher_alphabet:\n",
    "                        decryptedLine += letter\n",
    "                    else:\n",
    "                        decryptedLine += cipher_alphabet[letter]\n",
    "                write_plaintext.write(decryptedLine)\n",
    "                 "
   ]
  },
  {
   "cell_type": "code",
   "execution_count": 18,
   "metadata": {},
   "outputs": [],
   "source": [
    "cipher_alphabet = {\n",
    "    \"a\": \"z\",\n",
    "    \"b\": \"e\",\n",
    "    \"c\": \"b\",\n",
    "    \"d\": \"r\",\n",
    "}\n",
    "\n",
    "cipher_alphabet2 = {\n",
    "    \"z\": \"a\",\n",
    "    \"e\": \"b\",\n",
    "    \"b\": \"c\",\n",
    "    \"r\": \"d\",\n",
    "}\n",
    "\n",
    "#substitution_encrypt('plainText.txt', 'cipherText.txt', cipher_alphabet)\n",
    "substitution_decrypt('cipherText.txt', 'plainTextDec.txt', cipher_alphabet2)\n"
   ]
  },
  {
   "cell_type": "code",
   "execution_count": 12,
   "metadata": {},
   "outputs": [
    {
     "name": "stdout",
     "output_type": "stream",
     "text": [
      "['a', 'b', 'c', 'd', 'e', 'f', 'g', 'h', 'i', 'j', 'k', 'l', 'm', 'n', 'o', 'p', 'q', 'r', 's', 't', 'u', 'v', 'w', 'x', 'y', 'z', 'A', 'B', 'C', 'D', 'E', 'F', 'G', 'H', 'I', 'J', 'K', 'L', 'M', 'N', 'O', 'P', 'Q', 'R', 'S', 'T', 'U', 'V', 'W', 'X', 'Y', 'Z']\n",
      "['a', 'b', 'c', 'd', 'e', 'f', 'g', 'h', 'i', 'j', 'k', 'l', 'm', 'n', 'o', 'p', 'q', 'r', 's', 't', 'u', 'v', 'w', 'x', 'y', 'z', 'A', 'B', 'C', 'D', 'E', 'F', 'G', 'H', 'I', 'J', 'K', 'L', 'M', 'N', 'O', 'P', 'Q', 'R', 'S', 'T', 'U', 'V', 'W', 'X', 'Y', 'Z']\n"
     ]
    }
   ],
   "source": [
    "import math\n",
    "alphabet = ['a','b','c','d','e','f','g','h','i','j','k','l','m','n','o','p','q','r','s','t','u','v','w','x','y','z']\n",
    "\n",
    "def uppercaseLetters(alphabet):\n",
    "    upperAlphabet = []\n",
    "    for letter in alphabet:\n",
    "        upperAlphabet.append(letter.upper())\n",
    "    return upperAlphabet\n",
    "\n",
    "def reverse_dictionary(cipherAlphabet):\n",
    "    reversedDictionary = {}\n",
    "    for key in cipherAlphabet.keys():\n",
    "        reversedDictionary[cipherAlphabet[key]] = key\n",
    "    return reversedDictionary\n",
    "\n",
    "\n",
    "def affine_encrypt(plaintext_file, ciphertext_file, a, b):\n",
    "    if (math.gcd(a, len(alphabet)) != 1): return print(\"a is not co-prime with m. Please choose another value for a\")\n",
    "    cipherAlphabet = {}\n",
    "    fullAlphabet = alphabet\n",
    "    fullAlphabet.append(uppercaseLetters(alphabet))\n",
    "    for letter in fullAlphabet:\n",
    "        cipherAlphabet[letter] = fullAlphabet[(a * fullAlphabet.index(letter) + b) % len(fullAlphabet)]\n",
    "    substitution_encrypt(plaintext_file, ciphertext_file, cipherAlphabet)\n",
    "\n",
    "\n",
    "def affine_decrypt(ciphertext_file, plaintext_file, a, b):\n",
    "    if (math.gcd(a, len(alphabet)) != 1): return print(\"a is not co-prime with m. Please choose another value for a\")\n",
    "    cipherAlphabet = {}\n",
    "    fullAlphabet = alphabet\n",
    "    fullAlphabet.append(uppercaseLetters(alphabet))\n",
    "    for letter in fullAlphabet:\n",
    "        cipherAlphabet[letter] = fullAlphabet[(pow(a,-1,len(fullAlphabet)) * (fullAlphabet.index(letter) - b)) % len(fullAlphabet)]\n",
    "    substitution_decrypt(ciphertext_file, plaintext_file, cipherAlphabet)\n",
    "    \n",
    "\n",
    "var1 = 9\n",
    "var2 = 10\n",
    "#plainText = \"plainText.txt\"\n",
    "plainText = \"liquid.txt\"\n",
    "cipherText = \"cipherText.txt\"\n",
    "decryptedText = \"decryptedText.txt\"\n",
    "\n",
    "affine_encrypt(plainText,cipherText, var1, var2)\n",
    "#affine_decrypt(cipherText,decryptedText, var1, var2)"
   ]
  },
  {
   "cell_type": "code",
   "execution_count": null,
   "metadata": {},
   "outputs": [],
   "source": []
  }
 ],
 "metadata": {
  "kernelspec": {
   "display_name": "Python 3",
   "language": "python",
   "name": "python3"
  },
  "language_info": {
   "codemirror_mode": {
    "name": "ipython",
    "version": 3
   },
   "file_extension": ".py",
   "mimetype": "text/x-python",
   "name": "python",
   "nbconvert_exporter": "python",
   "pygments_lexer": "ipython3",
   "version": "3.10.13"
  }
 },
 "nbformat": 4,
 "nbformat_minor": 2
}
