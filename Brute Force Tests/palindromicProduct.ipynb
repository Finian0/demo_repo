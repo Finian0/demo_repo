{
 "cells": [
  {
   "cell_type": "markdown",
   "metadata": {},
   "source": [
    "## Pseudocode for Palindromic Product Function\n",
    "```java\n",
    "FUNCTION palindromic_product(int n)\n",
    "    SET upperBounds to 10 ^ n - 1\n",
    "    SET lowerBounds to 10 ^ (n-1)\n",
    "    SET largestPalindrome to 0\n",
    "    FOR each testNumber1 in range lowerBounds to upperBounds\n",
    "        FOR each testNumber2 in range testNumber1 to upperBounds\n",
    "            SET product = testNumber1 * testNumber2\n",
    "            IF CALL palindromeTest(product) THEN\n",
    "                IF largestPalindrome < product THEN\n",
    "                    SET largestPalindrome to product\n",
    "                END IF\n",
    "            END IF\n",
    "        END FOR\n",
    "    END FOR\n",
    "    RETURN largestPalindrome\n",
    "END FUNCTION\n",
    "\n",
    "FUNCTION palindromeTest(int product)\n",
    "    productString = toString(product)\n",
    "    RETURN productString == reversedProductString\n",
    "END FUNCTION\n",
    "    \n",
    "```"
   ]
  },
  {
   "cell_type": "code",
   "execution_count": 2,
   "metadata": {},
   "outputs": [
    {
     "data": {
      "text/plain": [
       "906609"
      ]
     },
     "execution_count": 2,
     "metadata": {},
     "output_type": "execute_result"
    }
   ],
   "source": [
    "def palindromic_product(n):\n",
    "    \"\"\"\n",
    "    :param n: int representing the number of digits to search. Ex: n=2 means search 2 digit number from 10*10 to 99*99\n",
    "    :returns: the largest palindrome found for the given n-digit factor\n",
    "    \"\"\"\n",
    "    upperBounds = 10 ** n       # if n = 2 then upperBound is 100. for loop below will only reach 99 so its 99 * 99 in this example\n",
    "    lowerBounds = 10 ** (n-1)   # lower bound has to be equal to n-digits. Given that 10 starts at 2 digits we set n to 1 less. \n",
    "    largestPalindrome = 0 \n",
    "    for testNumber1 in range(lowerBounds, upperBounds):\n",
    "        for testNumber2 in range(testNumber1, upperBounds): \n",
    "            # set bounds greater than or equal to testNumber1 to reduce search space. Because 10 * 11 and 11 * 10 are the same\n",
    "            product = testNumber1 * testNumber2\n",
    "            if palindromeTest(product): # Calls palindromeTest to see if the reverse of the number is the same\n",
    "                if largestPalindrome < product:\n",
    "                    largestPalindrome = product\n",
    "    return largestPalindrome\n",
    "\n",
    "def palindromeTest(product):\n",
    "    \"\"\"\n",
    "    :param product: int to test if it is a palindromic product\n",
    "    :returns: True or False based on if the string is the same in reverse\n",
    "    \"\"\"\n",
    "    productString = str(product)\n",
    "    return productString == productString[::-1]\n",
    "\n",
    "palindromic_product(3)"
   ]
  },
  {
   "cell_type": "code",
   "execution_count": 16,
   "metadata": {},
   "outputs": [
    {
     "data": {
      "text/plain": [
       "9966006699"
      ]
     },
     "execution_count": 16,
     "metadata": {},
     "output_type": "execute_result"
    }
   ],
   "source": [
    "palindromic_product(5)"
   ]
  }
 ],
 "metadata": {
  "kernelspec": {
   "display_name": "Python 3",
   "language": "python",
   "name": "python3"
  },
  "language_info": {
   "codemirror_mode": {
    "name": "ipython",
    "version": 3
   },
   "file_extension": ".py",
   "mimetype": "text/x-python",
   "name": "python",
   "nbconvert_exporter": "python",
   "pygments_lexer": "ipython3",
   "version": "3.10.13"
  }
 },
 "nbformat": 4,
 "nbformat_minor": 2
}
