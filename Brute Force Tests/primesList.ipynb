{
 "cells": [
  {
   "cell_type": "markdown",
   "metadata": {},
   "source": [
    "## Pseudocode for primes_list\n",
    "```java\n",
    "FUNCTION primes_list(n)\n",
    "    SET primeArray to Array[]\n",
    "    FOR selectedNumber = 2 to n\n",
    "        SET primeFlag = TRUE\n",
    "        FOR each primeNumber in primeArray\n",
    "            IF selectedNumber modulo primeNumber is 0 THEN\n",
    "                SET primeFlag = FALSE\n",
    "                BREAK to first FOR loop\n",
    "            END IF \n",
    "        END FOR\n",
    "        IF primeFlag is True THEN\n",
    "            ADD selectedNumber to primeArray\n",
    "        END IF \n",
    "    END FOR\n",
    "    RETURN primeArray\n",
    "END FUNCTION\n",
    "```"
   ]
  },
  {
   "cell_type": "code",
   "execution_count": 1,
   "metadata": {},
   "outputs": [
    {
     "name": "stdout",
     "output_type": "stream",
     "text": [
      "[2, 3, 5, 7, 11, 13, 17, 19]\n"
     ]
    }
   ],
   "source": [
    "def primes_list(n):\n",
    "    \"\"\"\n",
    "    :param n: int representing the max number to reach when searching for primes\n",
    "    :returns: a list containing each prime that was found \n",
    "    \"\"\"\n",
    "    primeArray = []\n",
    "    for selectedNumber in range(2,n+1): # searches each number starting at 2 and ending at the given number\n",
    "        primeFlag = True\n",
    "        for primeNumber in primeArray: \n",
    "            # Composite number are made by multiplying 2 prime numbers together. As we create our prime list, \n",
    "            # we are able to determine what is a prime number if it can be evenly divided by any prime number in our list\n",
    "            # This is more efficient than dividing the selectedNumber by every single number\n",
    "            if selectedNumber % primeNumber == 0:\n",
    "                primeFlag = False\n",
    "                break\n",
    "        if primeFlag:\n",
    "            primeArray.append(selectedNumber)\n",
    "    return primeArray\n",
    "\n",
    "print(primes_list(19))"
   ]
  },
  {
   "cell_type": "code",
   "execution_count": null,
   "metadata": {},
   "outputs": [],
   "source": []
  }
 ],
 "metadata": {
  "kernelspec": {
   "display_name": "Python 3",
   "language": "python",
   "name": "python3"
  },
  "language_info": {
   "codemirror_mode": {
    "name": "ipython",
    "version": 3
   },
   "file_extension": ".py",
   "mimetype": "text/x-python",
   "name": "python",
   "nbconvert_exporter": "python",
   "pygments_lexer": "ipython3",
   "version": "3.10.13"
  }
 },
 "nbformat": 4,
 "nbformat_minor": 2
}
