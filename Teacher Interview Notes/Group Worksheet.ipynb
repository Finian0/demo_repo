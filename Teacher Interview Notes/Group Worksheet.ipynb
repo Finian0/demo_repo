{
 "cells": [
  {
   "cell_type": "markdown",
   "id": "0ea2d899",
   "metadata": {},
   "source": [
    "# Python Classes: Group Work Exercises\n",
    "\n",
    "Please feel free to work on these exercises in small groups! Complete as many exercises as you can, but you are not expected to complete all these exercises during our class today (any incomplete exercises are good practice with Python Classes on your own time). \n",
    "\n",
    "Flag me down if you have any questions while you work!"
   ]
  },
  {
   "cell_type": "code",
   "execution_count": 4,
   "id": "6a45a70e",
   "metadata": {},
   "outputs": [],
   "source": [
    "import numpy as np\n",
    "import matplotlib.pyplot as plt"
   ]
  },
  {
   "cell_type": "markdown",
   "id": "a864a2f8",
   "metadata": {},
   "source": [
    "Recall the following outline used to code a class (you do not need to run the next cell)"
   ]
  },
  {
   "cell_type": "code",
   "execution_count": null,
   "id": "55d69858",
   "metadata": {},
   "outputs": [],
   "source": [
    "class NameOfClass:\n",
    "    def __init__(self, input_1, input_2,...): # Initialzation function/method.\n",
    "        self.input1 = input_1  # Add attribute to the class using \"self.attribute_name = \"\n",
    "        self.input2 = input_2\n",
    "        \n",
    "    def NameofFunction(self, new_input1, new_input2,...): # Function/method for our class \n",
    "        \"\"\"\n",
    "        Operation that is performed on our inputs and on our class attributes\n",
    "        \"\"\""
   ]
  },
  {
   "cell_type": "markdown",
   "id": "28cfe61b",
   "metadata": {},
   "source": [
    "## Exercise 1.\n",
    "\n",
    "In this exercise, we will create a class for a new data structure representing a single point on a 2d plane."
   ]
  },
  {
   "cell_type": "markdown",
   "id": "ff28e9fa",
   "metadata": {},
   "source": [
    "### 1a.\n",
    "\n",
    "Create a class named \"Point\" with an initialization function that takes two input numbers $x$ and $y$. Set \"Point\" to have $x$ and $y$ attributes corresponding to the two inputs. Call/instantiate your class on the origin.\n",
    "\n",
    "*Note: the $x$ and $y$ attributes will denote the $(x,y)$ coordinates of the point on the plane.*"
   ]
  },
  {
   "cell_type": "code",
   "execution_count": 2,
   "id": "e919b24d",
   "metadata": {},
   "outputs": [],
   "source": [
    "class Point:\n",
    "    def __init__(self, x, y):\n",
    "        self.x = x\n",
    "        self.y = y\n",
    "        self.xy = [x,y]"
   ]
  },
  {
   "cell_type": "code",
   "execution_count": 3,
   "id": "0248adfe",
   "metadata": {},
   "outputs": [
    {
     "name": "stdout",
     "output_type": "stream",
     "text": [
      "5\n",
      "6\n",
      "[5, 6]\n"
     ]
    }
   ],
   "source": [
    "point = Point(5,6)\n",
    "\n",
    "print(point.x)\n",
    "print(point.y)\n",
    "print(point.xy)"
   ]
  },
  {
   "cell_type": "markdown",
   "id": "25f0a2d8",
   "metadata": {},
   "source": [
    "### 1b. \n",
    "\n",
    "Copy your class in 1a and add a method to the class named \"display\" that prints the $(x,y)$ coordinates of the point as a tuple. Call/instantiate your class on the origin and verify your \"display\" method."
   ]
  },
  {
   "cell_type": "code",
   "execution_count": 12,
   "id": "3dee6add",
   "metadata": {},
   "outputs": [],
   "source": [
    "class Point:\n",
    "    def __init__(self, x, y):\n",
    "        self.x = x\n",
    "        self.y = y\n",
    "        self.xy = [x,y]\n",
    "    \n",
    "    def display(self):\n",
    "        coordinate = (self.x, self.y)\n",
    "        print(coordinate)"
   ]
  },
  {
   "cell_type": "code",
   "execution_count": 15,
   "id": "5ad128df",
   "metadata": {},
   "outputs": [
    {
     "name": "stdout",
     "output_type": "stream",
     "text": [
      "(5, 6)\n"
     ]
    }
   ],
   "source": [
    "point = Point(5,6)\n",
    "\n",
    "point.display()"
   ]
  },
  {
   "cell_type": "markdown",
   "id": "bf39689e",
   "metadata": {},
   "source": [
    "### 1c.\n",
    "\n",
    "Copy your class in 1b and define a method for the class named \"plot\" that plots the $(x,y)$ point of the class using matplotlib. Call/instantiate your class on the origin and verify your \"plot\" method."
   ]
  },
  {
   "cell_type": "code",
   "execution_count": 24,
   "id": "d8b850df",
   "metadata": {},
   "outputs": [],
   "source": [
    "class Point:\n",
    "    def __init__(self, x, y):\n",
    "        self.x = x\n",
    "        self.y = y\n",
    "        self.xy = [x,y]\n",
    "    \n",
    "    def display(self):\n",
    "        coordinate = (self.x, self.y)\n",
    "        print(coordinate)\n",
    "\n",
    "    def plot(self):\n",
    "        plt.plot(self.x,self.y, 'ro', linewidth=2, markersize=12)\n",
    "        plt.show()"
   ]
  },
  {
   "cell_type": "code",
   "execution_count": 25,
   "id": "13cdd79a",
   "metadata": {},
   "outputs": [
    {
     "data": {
      "image/png": "[encoded data removed]",
      "text/plain": [
       "<Figure size 640x480 with 1 Axes>"
      ]
     },
     "metadata": {},
     "output_type": "display_data"
    }
   ],
   "source": [
    "point = Point(5,6)\n",
    "\n",
    "point.plot()"
   ]
  },
  {
   "cell_type": "markdown",
   "id": "48ae9504",
   "metadata": {},
   "source": [
    "### 1d.\n",
    "\n",
    "Copy your class from 1c and add a method for the class named \"shift\" with two inputs where the first input shifts the $x$ attribute and the second shifts the $y$ attribute. Call/instantiate your class on the origin and verify your \"shift\" method."
   ]
  },
  {
   "cell_type": "code",
   "execution_count": 42,
   "id": "2de5a2f1",
   "metadata": {},
   "outputs": [],
   "source": [
    "class Point:\n",
    "    def __init__(self, x, y):\n",
    "        self.x = x\n",
    "        self.y = y\n",
    "        self.xy = [x,y]\n",
    "    \n",
    "    def display(self):\n",
    "        coordinate = (self.x, self.y)\n",
    "        print(coordinate)\n",
    "\n",
    "    def plot(self):\n",
    "        plt.plot(self.x,self.y, 'ro', linewidth=2, markersize=12)\n",
    "        plt.show()\n",
    "    \n",
    "    def shift(self, shiftX = 0, shiftY = 0):\n",
    "        self.x += shiftX\n",
    "        self.y += shiftY\n",
    "        (self.xy[0], self.xy[1]) = (self.x, self.y)\n"
   ]
  },
  {
   "cell_type": "code",
   "execution_count": 45,
   "id": "f42e3636",
   "metadata": {},
   "outputs": [
    {
     "name": "stdout",
     "output_type": "stream",
     "text": [
      "(5, 6)\n",
      "[5, 7]\n",
      "(5, 7)\n"
     ]
    }
   ],
   "source": [
    "point = Point(5,6)\n",
    "\n",
    "point.display()\n",
    "\n",
    "point.shift(1,1)\n",
    "\n",
    "point.display()\n"
   ]
  },
  {
   "cell_type": "markdown",
   "id": "e6cb10df",
   "metadata": {},
   "source": [
    "### 1e.\n",
    "\n",
    "Just like the initialization function/method, there are a number of other special named functions/methods that specify the behavior of operators on our class types. Let's explore one of them here!\n",
    "\n",
    "Consider the following method \"add\" that takes a Point object as input. Copy your Point class from above and add the method \"add\" to your class. \n",
    "\n",
    "Briefly think about what you expect the \"add\" method to do?"
   ]
  },
  {
   "cell_type": "code",
   "execution_count": null,
   "id": "05e171df",
   "metadata": {},
   "outputs": [],
   "source": [
    "def add(self, point): # Input will be an object from the \"Point\" class\n",
    "    return Point(self.x+point.x, self.y+point.y)"
   ]
  },
  {
   "cell_type": "code",
   "execution_count": 1,
   "id": "e834779e",
   "metadata": {},
   "outputs": [],
   "source": [
    "class Point:\n",
    "    def __init__(self, x, y):\n",
    "        self.x = x\n",
    "        self.y = y\n",
    "        self.xy = [x,y]\n",
    "    \n",
    "    def display(self):\n",
    "        coordinate = (self.x, self.y)\n",
    "        print(coordinate)\n",
    "\n",
    "    def plot(self):\n",
    "        plt.plot(self.x,self.y, 'ro', linewidth=2, markersize=12)\n",
    "        plt.show()\n",
    "    \n",
    "    def shift(self, shiftX = 0, shiftY = 0):\n",
    "        self.x += shiftX\n",
    "        self.y += shiftY\n",
    "        (self.xy[0], self.xy[1]) = (self.x, self.y)\n",
    "\n",
    "    def add(self, point): # Input will be an object from the \"Point\" class\n",
    "        return Point(self.x+point.x, self.y+point.y)\n"
   ]
  },
  {
   "cell_type": "markdown",
   "id": "128af271",
   "metadata": {},
   "source": [
    "Next, call/instantiate the Point class on the origin (let's say this is p1) and another point of your choice (let's say this is p2). Try p1.add(p2), what do you get out? Try p2.add(p1), what do you get out?\n",
    "\n",
    "Now, what does the \"add\" method do? *Feel free to call/instantiate the Point class on a number of different points to test the \"add\" method until you feel comfortable with what it is doing.*"
   ]
  },
  {
   "cell_type": "code",
   "execution_count": 2,
   "id": "6db09ca1",
   "metadata": {},
   "outputs": [
    {
     "name": "stdout",
     "output_type": "stream",
     "text": [
      "<__main__.Point object at 0x7f1ed36ae8f0>\n",
      "<__main__.Point object at 0x7f1ed368ace0>\n",
      "<__main__.Point object at 0x7f1ed368bdf0>\n",
      "<__main__.Point object at 0x7f1ed4835060>\n",
      "(9, 10)\n",
      "(6, 7)\n"
     ]
    }
   ],
   "source": [
    "p1 = Point(5,6)\n",
    "p2 = Point(4,4)\n",
    "p3 = Point(1,1)\n",
    "\n",
    "#Don't know what this is supposed to be doing. I guess it is creating a new object?\n",
    "print(p1)\n",
    "print(p2)\n",
    "\n",
    "print(p1.add(p2))\n",
    "print(p1.add(p3))\n",
    "\n",
    "#wait i think i kind of understand. you can display the result\n",
    "p1.add(p2).display()\n",
    "p1.add(p3).display()"
   ]
  },
  {
   "cell_type": "code",
   "execution_count": null,
   "id": "990f0d90",
   "metadata": {},
   "outputs": [],
   "source": []
  },
  {
   "cell_type": "markdown",
   "id": "4c2f8d41",
   "metadata": {},
   "source": [
    "Special named functions/methods are all written similarly to the initialization function with two underscore characters followed by some text and then two more underscores. One such special function is _ _add_ _\n",
    "\n",
    "Copy the Point class above with the method \"add\" we were just testing. Insert two underscores before and after the method name \"add\" so that you have a newly named method _ _add_ _"
   ]
  },
  {
   "cell_type": "code",
   "execution_count": 17,
   "id": "35b4a9ee",
   "metadata": {},
   "outputs": [],
   "source": [
    "class Point:\n",
    "    def __init__(self, x, y):\n",
    "        self.x = x\n",
    "        self.y = y\n",
    "        self.xy = [x,y]\n",
    "    \n",
    "    def display(self):\n",
    "        coordinate = (self.x, self.y)\n",
    "        print(coordinate)\n",
    "\n",
    "    def plot(self):\n",
    "        plt.plot(self.x,self.y, 'ro', linewidth=2, markersize=12)\n",
    "        plt.show()\n",
    "    \n",
    "    def shift(self, shiftX = 0, shiftY = 0):\n",
    "        self.x += shiftX\n",
    "        self.y += shiftY\n",
    "        (self.xy[0], self.xy[1]) = (self.x, self.y)\n",
    "\n",
    "    def __add__(self, point): # Input will be an object from the \"Point\" class\n",
    "        return Point(self.x+point.x, self.y+point.y)"
   ]
  },
  {
   "cell_type": "markdown",
   "id": "a03aa78a",
   "metadata": {},
   "source": [
    "Next, call/instantiate the Point class on the origin (let's say this is p1) and another point of your choice (let's say this is p2). Try p1+p2, what do you get out? Try p2+p1, what do you get out?"
   ]
  },
  {
   "cell_type": "code",
   "execution_count": 22,
   "id": "fda39f28",
   "metadata": {},
   "outputs": [
    {
     "name": "stdout",
     "output_type": "stream",
     "text": [
      "(9, 10)\n"
     ]
    }
   ],
   "source": [
    "p1 = Point(5,6)\n",
    "p2 = Point(4,4)\n",
    "\n",
    "p3 = p1+p2\n",
    "p3.display()"
   ]
  },
  {
   "cell_type": "code",
   "execution_count": null,
   "id": "abe903d4",
   "metadata": {},
   "outputs": [],
   "source": []
  },
  {
   "cell_type": "markdown",
   "id": "d06d320c",
   "metadata": {},
   "source": [
    "The special name function/method _ _add_ _ allows us to define what operation + should perform on our Point objects (it adds the $x$ and $y$ components together). So, rather than requiring a call of the add method using a dot . we can use + as a shorthand for adding two Point objects.\n",
    "\n",
    "*Note: Defining a special named function/method in a class is known as __operator overloading__*\n",
    "\n",
    "If you are curious on other special named functions/methods, see Section 3.4 at (Section 3.4.8 shows special named functions for mathematical operations in particular):\n",
    "\n",
    "https://docs.python.org/2/reference/datamodel.html#special-method-names"
   ]
  },
  {
   "cell_type": "code",
   "execution_count": null,
   "id": "7f650e8c",
   "metadata": {},
   "outputs": [],
   "source": []
  },
  {
   "cell_type": "code",
   "execution_count": null,
   "id": "d0141ea8",
   "metadata": {},
   "outputs": [],
   "source": []
  },
  {
   "cell_type": "markdown",
   "id": "0f3e3f6d",
   "metadata": {},
   "source": [
    "## Exercise 2.\n",
    "\n",
    "In this exercise, we will create a class for a new data type representing a circle in a 2d plane."
   ]
  },
  {
   "cell_type": "markdown",
   "id": "2dc05194",
   "metadata": {},
   "source": [
    "### 2a. \n",
    "\n",
    "Create a class that is initialized by:\n",
    "    1. a Point object from Exercise 1 giving the center of a circle\n",
    "    2. a number giving the radius of the circle\n",
    "Set your circle class to have two attributes corresponding to the two inputs. \n",
    "\n",
    "Call/instantiate your class and verify it has the two attributes you expect."
   ]
  },
  {
   "cell_type": "code",
   "execution_count": 31,
   "id": "89a25c41",
   "metadata": {},
   "outputs": [],
   "source": [
    "class Point:\n",
    "    def __init__(self, x, y):\n",
    "        self.x = x\n",
    "        self.y = y\n",
    "        self.xy = [x,y]\n",
    "    \n",
    "    def display(self):\n",
    "        coordinate = (self.x, self.y)\n",
    "        print(coordinate)\n",
    "\n",
    "    def plot(self):\n",
    "        plt.plot(self.x,self.y, 'ro', linewidth=2, markersize=12)\n",
    "        plt.show()\n",
    "    \n",
    "    def shift(self, shiftX = 0, shiftY = 0):\n",
    "        self.x += shiftX\n",
    "        self.y += shiftY\n",
    "        (self.xy[0], self.xy[1]) = (self.x, self.y)\n",
    "\n",
    "    def __add__(self, point): # Input will be an object from the \"Point\" class\n",
    "        return Point(self.x+point.x, self.y+point.y)\n",
    "\n",
    "class Circle:\n",
    "    def __init__(self,point,radius):\n",
    "        self.center = point\n",
    "        self.radius = radius\n"
   ]
  },
  {
   "cell_type": "code",
   "execution_count": 34,
   "id": "b64220ac",
   "metadata": {},
   "outputs": [
    {
     "name": "stdout",
     "output_type": "stream",
     "text": [
      "(5, 6)\n",
      "2\n"
     ]
    }
   ],
   "source": [
    "p1 = Point(5,6)\n",
    "\n",
    "circle = Circle(p1,2)\n",
    "circle.center.display()\n",
    "print(circle.radius)\n"
   ]
  },
  {
   "cell_type": "markdown",
   "id": "b951754c",
   "metadata": {},
   "source": [
    "### 2b.\n",
    "\n",
    "Copy your class from 2a and add a method to your class that calculates and returns the area of the circle. Call/instantiate your class and verify your area calculator method."
   ]
  },
  {
   "cell_type": "code",
   "execution_count": 29,
   "id": "41b4f7e1",
   "metadata": {},
   "outputs": [],
   "source": [
    "class Point:\n",
    "    def __init__(self, x, y):\n",
    "        self.x = x\n",
    "        self.y = y\n",
    "        self.xy = [x,y]\n",
    "    \n",
    "    def display(self):\n",
    "        coordinate = (self.x, self.y)\n",
    "        print(coordinate)\n",
    "\n",
    "    def plot(self):\n",
    "        plt.plot(self.x,self.y, 'ro', linewidth=2, markersize=12)\n",
    "        plt.show()\n",
    "    \n",
    "    def shift(self, shiftX = 0, shiftY = 0):\n",
    "        self.x += shiftX\n",
    "        self.y += shiftY\n",
    "        (self.xy[0], self.xy[1]) = (self.x, self.y)\n",
    "\n",
    "    def __add__(self, point): # Input will be an object from the \"Point\" class\n",
    "        return Point(self.x+point.x, self.y+point.y)\n",
    "\n",
    "class Circle:\n",
    "    def __init__(self,point,radius):\n",
    "        self.center = point\n",
    "        self.radius = radius\n",
    "\n",
    "    def area(self):\n",
    "        return np.pi * self.radius ** 2\n"
   ]
  },
  {
   "cell_type": "code",
   "execution_count": 30,
   "id": "f4fea83d",
   "metadata": {},
   "outputs": [
    {
     "data": {
      "text/plain": [
       "12.566370614359172"
      ]
     },
     "execution_count": 30,
     "metadata": {},
     "output_type": "execute_result"
    }
   ],
   "source": [
    "p1 = Point(5,6)\n",
    "\n",
    "c1 = Circle(p1,2)\n",
    "\n",
    "c1.area()"
   ]
  },
  {
   "cell_type": "markdown",
   "id": "1127c9da",
   "metadata": {},
   "source": [
    "### 2c. \n",
    "\n",
    "Copy your class from 2c and add the method \"plot_circle\" defined below to the class. This method takes as input a Point object, from Exercise 1, and plots this point along with the circle defined in the class. \n",
    "\n",
    "*Note: you may need to modify self.center and self.radius in \"plot_circle\" to what you named these attributes in your class*\n",
    "\n",
    "Call/instantiate your class and test the new \"plot_circle\" method."
   ]
  },
  {
   "cell_type": "code",
   "execution_count": null,
   "id": "b10654cd",
   "metadata": {},
   "outputs": [],
   "source": [
    "def plot_circle(self, point): # Input will be an object from the \"Point\" class\n",
    "    fig, ax = plt.subplots()\n",
    "    ax.add_patch(plt.Circle((self.center.x, self.center.y), self.radius, fill=False))\n",
    "    ax.plot(point.x, point.y, 'o')\n",
    "    ax.set_aspect('equal')\n",
    "    ax.plot()\n",
    "    plt.show()"
   ]
  },
  {
   "cell_type": "code",
   "execution_count": 3,
   "id": "e4a996fe",
   "metadata": {},
   "outputs": [],
   "source": [
    "class Point:\n",
    "    def __init__(self, x, y):\n",
    "        self.x = x\n",
    "        self.y = y\n",
    "        self.xy = [x,y]\n",
    "    \n",
    "    def display(self):\n",
    "        coordinate = (self.x, self.y)\n",
    "        print(coordinate)\n",
    "\n",
    "    def plot(self):\n",
    "        plt.plot(self.x,self.y, 'ro', linewidth=2, markersize=12)\n",
    "        plt.show()\n",
    "    \n",
    "    def shift(self, shiftX = 0, shiftY = 0):\n",
    "        self.x += shiftX\n",
    "        self.y += shiftY\n",
    "        (self.xy[0], self.xy[1]) = (self.x, self.y)\n",
    "\n",
    "    def __add__(self, point): # Input will be an object from the \"Point\" class\n",
    "        return Point(self.x+point.x, self.y+point.y)\n",
    "\n",
    "class Circle:\n",
    "    def __init__(self,point,radius):\n",
    "        self.center = point\n",
    "        self.radius = radius\n",
    "\n",
    "    def area(self):\n",
    "        return np.pi * self.radius ** 2\n",
    "    \n",
    "    def plot_circle(self, point): # Input will be an object from the \"Point\" class\n",
    "        fig, ax = plt.subplots()\n",
    "        ax.add_patch(plt.Circle((self.center.x, self.center.y), self.radius, fill=False))\n",
    "        ax.plot(point.x, point.y, 'o')\n",
    "        ax.set_aspect('equal')\n",
    "        ax.plot()\n",
    "        plt.show()"
   ]
  },
  {
   "cell_type": "code",
   "execution_count": 13,
   "id": "de3f0422",
   "metadata": {},
   "outputs": [
    {
     "data": {
      "image/png": "[encoded data removed]",
      "text/plain": [
       "<Figure size 640x480 with 1 Axes>"
      ]
     },
     "metadata": {},
     "output_type": "display_data"
    }
   ],
   "source": [
    "p1 = Point(5,6)\n",
    "c1 = Circle(p1,2)\n",
    "p2 = Point(10,10)\n",
    "\n",
    "c1.plot_circle(p2)"
   ]
  },
  {
   "cell_type": "markdown",
   "id": "dd332d7e",
   "metadata": {},
   "source": [
    "### 2d.\n",
    "\n",
    "Copy your class from 2b and define a method for the class with a Point object, from Exercise 1, as input that returns a Boolean (True or False) if this input point lies inside of the circle.\n",
    "\n",
    "*Hint: The equation $(x-x_1)^2+(y-y_1)^2 = r^2$ gives points $(x,y)$ that lie on a circle of radius $r$ centered at $(x_1, y_1)$*\n",
    "\n",
    "Call/instantiate your class and use the \"plot_circle\" method to verify the method you added in 2d is working as expected."
   ]
  },
  {
   "cell_type": "code",
   "execution_count": 2,
   "id": "db334df7",
   "metadata": {},
   "outputs": [],
   "source": [
    "class Point:\n",
    "    def __init__(self, x, y):\n",
    "        self.x = x\n",
    "        self.y = y\n",
    "        self.xy = [x,y]\n",
    "    \n",
    "    def display(self):\n",
    "        coordinate = (self.x, self.y)\n",
    "        print(coordinate)\n",
    "\n",
    "    def plot(self):\n",
    "        plt.plot(self.x,self.y, 'ro', linewidth=2, markersize=12)\n",
    "        plt.show()\n",
    "    \n",
    "    def shift(self, shiftX = 0, shiftY = 0):\n",
    "        self.x += shiftX\n",
    "        self.y += shiftY\n",
    "        (self.xy[0], self.xy[1]) = (self.x, self.y)\n",
    "\n",
    "    def __add__(self, point): # Input will be an object from the \"Point\" class\n",
    "        return Point(self.x+point.x, self.y+point.y)\n",
    "    \n",
    "    def insideCircleCheck(self, circle):\n",
    "        if ((self.x-circle.center.x)**2 + (self.y-circle.center.y)**2) - (circle.radius ** 2) < 0: \n",
    "            return True\n",
    "        else:\n",
    "            return False\n",
    "        \n",
    "\n",
    "class Circle:\n",
    "    def __init__(self,point,radius):\n",
    "        self.center = point\n",
    "        self.radius = radius\n",
    "\n",
    "    def area(self):\n",
    "        return np.pi * self.radius ** 2\n",
    "    \n",
    "    def plot_circle(self, point): # Input will be an object from the \"Point\" class\n",
    "        fig, ax = plt.subplots()\n",
    "        ax.add_patch(plt.Circle((self.center.x, self.center.y), self.radius, fill=False))\n",
    "        ax.plot(point.x, point.y, 'o')\n",
    "        ax.set_aspect('equal')\n",
    "        ax.plot()\n",
    "        plt.show()"
   ]
  },
  {
   "cell_type": "code",
   "execution_count": 8,
   "id": "9025d122",
   "metadata": {},
   "outputs": [
    {
     "data": {
      "image/png": "[encoded data removed]",
      "text/plain": [
       "<Figure size 640x480 with 1 Axes>"
      ]
     },
     "metadata": {},
     "output_type": "display_data"
    },
    {
     "name": "stdout",
     "output_type": "stream",
     "text": [
      "True\n"
     ]
    }
   ],
   "source": [
    "p1 = Point(0,0)\n",
    "c1 = Circle(p1,2)\n",
    "p2 = Point(1.1,1.3)\n",
    "\n",
    "c1.plot_circle(p2)\n",
    "print(p2.insideCircleCheck(c1))\n"
   ]
  },
  {
   "cell_type": "code",
   "execution_count": null,
   "id": "ea3ea5a4",
   "metadata": {},
   "outputs": [],
   "source": []
  },
  {
   "cell_type": "markdown",
   "id": "afa68499",
   "metadata": {},
   "source": [
    "## Exercise 3.\n",
    "\n",
    "You have been tasked with developing an employee database for a company. For every employee, the company has their employee ID number, name, email, number of months worked, and a performance score for every month worked. You will develop your database in two parts:\n",
    "    1. First, you will create a class that will represent a single employee of the company\n",
    "    2. Second, you will create a class that will represent the employee database where each employee is stored with a class from part 1. "
   ]
  },
  {
   "cell_type": "markdown",
   "id": "920a9fa5",
   "metadata": {},
   "source": [
    "### Exercise 3. Part 1\n",
    "\n",
    "#### A.\n",
    "\n",
    "Create a class representing an employee of this company. Consider: \n",
    "    * What would be an appropriate name for the class?\n",
    "    * What attributes should this class have?\n",
    "    * What inputs should the initialization function of this class have?\n",
    "\n",
    "*Hint: Keep in mind the information the company has about their employees.*"
   ]
  },
  {
   "cell_type": "code",
   "execution_count": 18,
   "id": "9c699442",
   "metadata": {},
   "outputs": [],
   "source": [
    "class Employee:\n",
    "    def __init__(self, empID, empName, empEmail, empMonthsWorked = 0, empPerformance = []):\n",
    "        self.ID = empID\n",
    "        self.name = empName\n",
    "        self.email = empEmail\n",
    "        self.monthsWorked = empMonthsWorked\n",
    "        self.performance = empPerformance\n",
    "\n",
    "    def display(self):\n",
    "        print(f\"Employee name: {self.name}\")\n",
    "        print(f\"Employee ID: {self.ID}\")\n",
    "        print(f\"Employee email: {self.email}\")\n",
    "        print(f\"Months Worked: {self.monthsWorked}\")\n",
    "        print(f\"Performance: {self.performance}\")\n"
   ]
  },
  {
   "cell_type": "markdown",
   "id": "3d9a9d18",
   "metadata": {},
   "source": [
    "#### B.\n",
    "\n",
    "Make up two employees and then call/instantiate your class above for each employee. Verify the attributes of each instance of your class and check that all employee information is included in these attributes.\n",
    "\n",
    "*Hint: name and email should be a string, months worked and employee ID number a positive whole number, and the performance scores could be a list of numbers between 1 and 10 (you could randomly generate a number for each month the employee has worked)*"
   ]
  },
  {
   "cell_type": "code",
   "execution_count": null,
   "id": "b723e72c",
   "metadata": {},
   "outputs": [],
   "source": []
  },
  {
   "cell_type": "code",
   "execution_count": null,
   "id": "d2aff8f1",
   "metadata": {},
   "outputs": [],
   "source": []
  },
  {
   "cell_type": "code",
   "execution_count": null,
   "id": "75725eac",
   "metadata": {},
   "outputs": [],
   "source": []
  },
  {
   "cell_type": "code",
   "execution_count": null,
   "id": "16143b36",
   "metadata": {},
   "outputs": [],
   "source": []
  },
  {
   "cell_type": "markdown",
   "id": "a9d4ac96",
   "metadata": {},
   "source": [
    "## Exercise 3. Part 2\n",
    "\n",
    "#### A.\n",
    "\n",
    "Create a class to represent an employee database for the company where we can access and employee from their ID number. Consider: \n",
    "    1. What would be an appropriate name for the class?\n",
    "    2. What attributes should this class have? (we at least want one attribute that stores the database)\n",
    "    3. What data structure might we use to store the employees so that we can access them by their ID number? (a list, a dictionary, a numpy array, etc.)\n",
    "    4. What inputs should the initialization function of this class have?\n",
    "    \n",
    "*Note: there is not necessarily a right or wrong way to do this. Choose what you think is best!*"
   ]
  },
  {
   "cell_type": "code",
   "execution_count": null,
   "id": "dc8da128",
   "metadata": {},
   "outputs": [],
   "source": []
  },
  {
   "cell_type": "markdown",
   "id": "112da93a",
   "metadata": {},
   "source": [
    "#### B.\n",
    "\n",
    "Define a method for this class that will add an employee to the database. \n",
    "\n",
    "*Hint: Inputs would be an employee ID number and an employee object from Exercise 3 Part 1* \n",
    "\n",
    "Call/instantiate your class and verify you can add the employees from Exercise 3 Part 1B to the database."
   ]
  },
  {
   "cell_type": "code",
   "execution_count": null,
   "id": "80f1ddc2",
   "metadata": {},
   "outputs": [],
   "source": []
  },
  {
   "cell_type": "code",
   "execution_count": null,
   "id": "fe08627a",
   "metadata": {},
   "outputs": [],
   "source": []
  },
  {
   "cell_type": "code",
   "execution_count": null,
   "id": "5e99d52b",
   "metadata": {},
   "outputs": [],
   "source": []
  },
  {
   "cell_type": "code",
   "execution_count": null,
   "id": "0f2236a7",
   "metadata": {},
   "outputs": [],
   "source": []
  },
  {
   "cell_type": "markdown",
   "id": "f4a3f352",
   "metadata": {},
   "source": [
    "#### C.\n",
    "\n",
    "Define a method for this class that will remove an employee from the database. \n",
    "\n",
    "*Hint: Input would be an employee ID number*\n",
    "\n",
    "Call/instantiate your class, add an employee, and then remove said employee."
   ]
  },
  {
   "cell_type": "code",
   "execution_count": null,
   "id": "68b1a9e9",
   "metadata": {},
   "outputs": [],
   "source": []
  },
  {
   "cell_type": "code",
   "execution_count": null,
   "id": "25c8acf4",
   "metadata": {},
   "outputs": [],
   "source": []
  },
  {
   "cell_type": "code",
   "execution_count": null,
   "id": "c3494aa2",
   "metadata": {},
   "outputs": [],
   "source": []
  },
  {
   "cell_type": "code",
   "execution_count": null,
   "id": "fcdcc027",
   "metadata": {},
   "outputs": [],
   "source": []
  },
  {
   "cell_type": "markdown",
   "id": "1ef626d4",
   "metadata": {},
   "source": [
    "#### D. \n",
    "\n",
    "In addition to having the employee database, the company wants a way to evaluate the overall performance of every employee in their database. Add a method that will iterative over all employees in the database, calculate the average monthly score, and then print out the employee's name with their average score.\n",
    "\n",
    "Call/instantiate your class, add the two employees from Exercise 3 Part 1B to the database, and then use your new method to calculate the overall performance of every employee."
   ]
  },
  {
   "cell_type": "code",
   "execution_count": null,
   "id": "cad70aa8",
   "metadata": {},
   "outputs": [],
   "source": []
  },
  {
   "cell_type": "code",
   "execution_count": null,
   "id": "f8d4f3bb",
   "metadata": {},
   "outputs": [],
   "source": []
  },
  {
   "cell_type": "code",
   "execution_count": null,
   "id": "903f46c2",
   "metadata": {},
   "outputs": [],
   "source": []
  },
  {
   "cell_type": "code",
   "execution_count": null,
   "id": "6bd25189",
   "metadata": {},
   "outputs": [],
   "source": []
  },
  {
   "cell_type": "markdown",
   "id": "7710f2dd",
   "metadata": {},
   "source": [
    "## Exercise 4.\n",
    "\n",
    "In this exercise, you will create a class that can store and process an image. First, check to see if you have scikit-image installed my running the following cell of code.\n",
    "\n",
    "First, check to see if you have scipy and pillow installed by running the following code cell."
   ]
  },
  {
   "cell_type": "code",
   "execution_count": null,
   "id": "7eec8b24",
   "metadata": {},
   "outputs": [],
   "source": [
    "import skimage\n",
    "from skimage import data\n",
    "\n",
    "image = data.chelsea()"
   ]
  },
  {
   "cell_type": "markdown",
   "id": "bca0b743",
   "metadata": {},
   "source": [
    "If the above cell did not return an error, then skip to A. below. Otherwise, we will next check to see if you have scipy and pillow installed by running the following code cell."
   ]
  },
  {
   "cell_type": "code",
   "execution_count": null,
   "id": "9b51b382",
   "metadata": {},
   "outputs": [],
   "source": [
    "import scipy as sp\n",
    "from scipy import misc\n",
    "\n",
    "image = misc.face()"
   ]
  },
  {
   "cell_type": "markdown",
   "id": "e062b20c",
   "metadata": {},
   "source": [
    "If the above cell did not return an error, then skip to A. below. Otherwise, we will generate a checkerboard image by running the code cell below."
   ]
  },
  {
   "cell_type": "code",
   "execution_count": null,
   "id": "e7e7bf4c",
   "metadata": {},
   "outputs": [],
   "source": [
    "zero_block, nonzero_block = np.zeros((25, 25, 3)), 255*np.ones((25, 25, 3))\n",
    "blockA = np.concatenate([zero_block, nonzero_block], axis=0)\n",
    "blockB = np.concatenate([nonzero_block, zero_block], axis=0)\n",
    "block = np.concatenate([blockA, blockB], axis=1)\n",
    "image = np.tile(block, (4,4,1)).astype(int)"
   ]
  },
  {
   "cell_type": "markdown",
   "id": "7fccdf98",
   "metadata": {},
   "source": [
    "#### A.\n",
    "\n",
    "Let's get an understanding for what our data looks like by displaying the image and printing the shape of the image. We will use *imshow* from matplotlib.pyplot to display our image"
   ]
  },
  {
   "cell_type": "code",
   "execution_count": null,
   "id": "6b8937cc",
   "metadata": {},
   "outputs": [],
   "source": [
    "print(np.shape(image))"
   ]
  },
  {
   "cell_type": "code",
   "execution_count": null,
   "id": "9a704a10",
   "metadata": {},
   "outputs": [],
   "source": [
    "plt.imshow(image)\n",
    "plt.show()"
   ]
  },
  {
   "cell_type": "markdown",
   "id": "af278050",
   "metadata": {},
   "source": [
    "The shape of our image should be 3-dimensional of the form (image height, image width, image color channels). Note that the number of color channels = 3 corresponding to a Red-Green-Blue (RGB) image where each color channel will provide how much Red, Green, or Blue should be present in the image.\n",
    "\n",
    "For example, run the following cell and see what three numbers are printed out. These numbers tell us how much red, green, and blue are present in the top left pixel of our image where 0 means none of the color is present and 255 means a lot of the color is present."
   ]
  },
  {
   "cell_type": "code",
   "execution_count": null,
   "id": "d1346e83",
   "metadata": {},
   "outputs": [],
   "source": [
    "print(image[0][0][0])\n",
    "print(image[0][0][1])\n",
    "print(image[0][0][2])"
   ]
  },
  {
   "cell_type": "markdown",
   "id": "2f861f23",
   "metadata": {},
   "source": [
    "#### B. \n",
    "\n",
    "Create a class with an initialization function that takes as input an image and sets the class to have this image as an attribute. \n",
    "\n",
    "Define a method for this class that displays the image of the class. \n",
    "\n",
    "Call/instantiate your class on the image from the beginning of Exercise 4 and verify your method displays the image."
   ]
  },
  {
   "cell_type": "code",
   "execution_count": null,
   "id": "b4a0b0a5",
   "metadata": {},
   "outputs": [],
   "source": []
  },
  {
   "cell_type": "code",
   "execution_count": null,
   "id": "31a235d9",
   "metadata": {},
   "outputs": [],
   "source": []
  },
  {
   "cell_type": "markdown",
   "id": "e87bf6d2",
   "metadata": {},
   "source": [
    "#### C.\n",
    "\n",
    "Add a method to your class that iterates through the pixel values of the image and returns the minimum and maximum pixel value for the image of the class.\n",
    "\n",
    "Call/instantiate your class on the image from the beginning of Exercise 4 and verify your method. *Note: for a numpy array named $A$, np.min($A$) and np.max($A$) return the minimum and maximum entry of $A$, respectively. Use these to check your method.* "
   ]
  },
  {
   "cell_type": "code",
   "execution_count": null,
   "id": "206b0fea",
   "metadata": {},
   "outputs": [],
   "source": []
  },
  {
   "cell_type": "code",
   "execution_count": null,
   "id": "a225e8f0",
   "metadata": {},
   "outputs": [],
   "source": []
  },
  {
   "cell_type": "code",
   "execution_count": null,
   "id": "b313ccf0",
   "metadata": {},
   "outputs": [],
   "source": []
  },
  {
   "cell_type": "markdown",
   "id": "b3298f38",
   "metadata": {},
   "source": [
    "#### D.\n",
    "\n",
    "Pixels in an image are often a whole number between 0 and 255. This range of possible values is too large for machine learning algorithms to be able to handle well. Instead, an image is often scaled and shifted to have pixels values in the range of 0 to 1 or -1 to 1.\n",
    "\n",
    "Add a method to your class that scales the image of the class to have pixel values in between 0 and 1.\n",
    "* Note, the first line of this method will need to change the data type of the image from an integer to a float. For a numpy array named $A$, $A.astype(float)$ will change the data type of $A$ to be float. \n",
    "* *Hint: In this method you may want to call the method from C.*\n",
    "\n",
    "Call/instantiate your class on the image from the beginning of Exercise 4. Use your method from C. to verify that this added method does scale the image of the class to have pixel value in between 0 and 1."
   ]
  },
  {
   "cell_type": "code",
   "execution_count": null,
   "id": "2fd57fb2",
   "metadata": {},
   "outputs": [],
   "source": []
  },
  {
   "cell_type": "code",
   "execution_count": null,
   "id": "d5bb8cc1",
   "metadata": {},
   "outputs": [],
   "source": []
  },
  {
   "cell_type": "code",
   "execution_count": null,
   "id": "02559e65",
   "metadata": {},
   "outputs": [],
   "source": []
  },
  {
   "cell_type": "markdown",
   "id": "219dca60",
   "metadata": {},
   "source": [
    "#### E.\n",
    "\n",
    "In order to better understand our image data, let's add a method to calculate and display some of the statistics of the image. Specifically, we will calculate the average value of the image, the standard deviation of the image, and plot a histogram of the image values. \n",
    "\n",
    "Consider the example below on how to plot a histogram using matplotlib: Run the cell below to generate an array of normally distributed values and then display a histogram of these values. Do you see the resemblance to a \"Bell Curve\"? (A \"Bell Curve\" is the distribution function of a normal random variable.)"
   ]
  },
  {
   "cell_type": "code",
   "execution_count": null,
   "id": "cbf69c28",
   "metadata": {},
   "outputs": [],
   "source": [
    "A = np.random.normal(0, 1, (100000)) # Generate normally distributed samples\n",
    "\n",
    "plt.hist(A, bins=30) # plot a histogram of the samples\n",
    "plt.show()"
   ]
  },
  {
   "cell_type": "markdown",
   "id": "acf201ea",
   "metadata": {},
   "source": [
    "Add a method to your class that displays a histogram of the image attribute for the class.\n",
    "* Note, since the image is a 3-dimensional array we will first want to flatten it into a 1-dimensional array. Given a numpy array named $A$, the function *np.ravel*$(A)$ will return $A$ as a 1-dimensional array.\n",
    "\n",
    "Call/instantiate your class on the image from the beginning of Exercise 4. Use your new method to display the distribution of the image attribute for the class."
   ]
  },
  {
   "cell_type": "code",
   "execution_count": null,
   "id": "6ea5f83a",
   "metadata": {},
   "outputs": [],
   "source": []
  },
  {
   "cell_type": "code",
   "execution_count": null,
   "id": "e65c7940",
   "metadata": {},
   "outputs": [],
   "source": []
  },
  {
   "cell_type": "code",
   "execution_count": null,
   "id": "428639e0",
   "metadata": {},
   "outputs": [],
   "source": []
  },
  {
   "cell_type": "markdown",
   "id": "9a3ea4a9",
   "metadata": {},
   "source": [
    "Add a method to your class that calculates and returns the average value of the image for the class.\n",
    "* Note, you may find it useful to first flatten the image into a 1-dimensional array.\n",
    "\n",
    "Call/instantiate your class on the image from the beginning of Exercise 4. Verify your method is correct by using *np.mean* on the image"
   ]
  },
  {
   "cell_type": "code",
   "execution_count": null,
   "id": "61a541b3",
   "metadata": {},
   "outputs": [],
   "source": []
  },
  {
   "cell_type": "code",
   "execution_count": null,
   "id": "8bfc77d3",
   "metadata": {},
   "outputs": [],
   "source": []
  },
  {
   "cell_type": "code",
   "execution_count": null,
   "id": "b35ded48",
   "metadata": {},
   "outputs": [],
   "source": []
  },
  {
   "cell_type": "markdown",
   "id": "c3ac6149",
   "metadata": {},
   "source": [
    "Add a method to your class that calculates and returns the standard deviation of the image for the class. \n",
    "* For a refresher on how to calculate the standard deviation of some values check out this website:\n",
    "    * https://www.mathsisfun.com/data/standard-deviation-formulas.html\n",
    "* Note, you may find it useful to first flatten the image into a 1-dimensional array.\n",
    "\n",
    "Call/instantiate your class on the image from the beginning of Exercise 4. Verify your method is correct by using *np.std* on the image."
   ]
  },
  {
   "cell_type": "code",
   "execution_count": null,
   "id": "611ac073",
   "metadata": {},
   "outputs": [],
   "source": []
  },
  {
   "cell_type": "code",
   "execution_count": null,
   "id": "5a589d7c",
   "metadata": {},
   "outputs": [],
   "source": []
  },
  {
   "cell_type": "code",
   "execution_count": null,
   "id": "d8b6a366",
   "metadata": {},
   "outputs": [],
   "source": []
  }
 ],
 "metadata": {
  "kernelspec": {
   "display_name": "Python 3",
   "language": "python",
   "name": "python3"
  },
  "language_info": {
   "codemirror_mode": {
    "name": "ipython",
    "version": 3
   },
   "file_extension": ".py",
   "mimetype": "text/x-python",
   "name": "python",
   "nbconvert_exporter": "python",
   "pygments_lexer": "ipython3",
   "version": "3.10.13"
  }
 },
 "nbformat": 4,
 "nbformat_minor": 5
}
