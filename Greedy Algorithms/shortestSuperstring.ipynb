{
 "cells": [
  {
   "cell_type": "markdown",
   "metadata": {},
   "source": [
    "## Pseudocode for Shortest Superstring\n",
    "```java\n",
    "FUNCTION shortest_superstring(array of strings)\n",
    "    INITIALIZE superstring as empty string\n",
    "    INITIALIZE overlapArray as empty array\n",
    "    \n",
    "    CALL allOverlaps(array of strings, overlapArray)\n",
    "\n",
    "    RETURN superstring\n",
    "END FUNCTION \n",
    "\n",
    "FUNCTION scanOverlap(string1, string2)\n",
    "    bestOverlap = array[string1,string2,0]\n",
    "    FOR each string1Index in string1\n",
    "        FOR each string2Index in string2\n",
    "            IF string1[string1Index starting from end of string] == string2[string2Index starting from beginning of string]\n",
    "                ADD string1,string2,letter to bestOverlap\n",
    "        END FOR\n",
    "    END FOR\n",
    "    RETURN bestOverlap\n",
    "END FUNCTION\n",
    "\n",
    "FUNCTION allOverlaps(array of strings, overlapArray)\n",
    "    FOR each string1 in array of strings\n",
    "        FOR each string2 in array of strings\n",
    "            IF string1,string2 exist in overlapArray THEN \n",
    "                BREAK \n",
    "            END IF \n",
    "            CALL scanOverlap(string1,string2) RETURN bestOverlap\n",
    "            ADD bestOverlap to overlapArray\n",
    "        END FOR\n",
    "    END FOR\n",
    "END FUNCTION\n",
    "```"
   ]
  },
  {
   "cell_type": "code",
   "execution_count": null,
   "metadata": {},
   "outputs": [],
   "source": []
  }
 ],
 "metadata": {
  "language_info": {
   "name": "python"
  }
 },
 "nbformat": 4,
 "nbformat_minor": 2
}
