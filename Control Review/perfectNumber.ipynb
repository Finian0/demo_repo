{
 "cells": [
  {
   "cell_type": "code",
   "execution_count": 2,
   "metadata": {},
   "outputs": [],
   "source": [
    "def is_perfect(input_int):\n",
    "    divisorSum = 0\n",
    "    for divisor in range(1, input_int):\n",
    "        if input_int % divisor == 0:\n",
    "            divisorSum += divisor\n",
    "    if divisorSum == input_int: return True\n",
    "    return False"
   ]
  },
  {
   "cell_type": "code",
   "execution_count": 3,
   "metadata": {},
   "outputs": [
    {
     "name": "stdout",
     "output_type": "stream",
     "text": [
      "6 is perfect\n",
      "28 is perfect\n",
      "496 is perfect\n"
     ]
    }
   ],
   "source": [
    "#test_value = 496\n",
    "#print(f'{test_value} is perfect: {is_perfect(test_value)}')\n",
    "\n",
    "test_values = 1000\n",
    "for i in range(1,test_values):\n",
    "    if is_perfect(i):\n",
    "     print(f'{i} is perfect')   \n",
    "    #print(f'{i} is perfect: {is_perfect(i)}')"
   ]
  }
 ],
 "metadata": {
  "kernelspec": {
   "display_name": "Python 3",
   "language": "python",
   "name": "python3"
  },
  "language_info": {
   "codemirror_mode": {
    "name": "ipython",
    "version": 3
   },
   "file_extension": ".py",
   "mimetype": "text/x-python",
   "name": "python",
   "nbconvert_exporter": "python",
   "pygments_lexer": "ipython3",
   "version": "3.10.13"
  }
 },
 "nbformat": 4,
 "nbformat_minor": 2
}
