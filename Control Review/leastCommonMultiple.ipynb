{
 "cells": [
  {
   "cell_type": "code",
   "execution_count": 24,
   "metadata": {},
   "outputs": [],
   "source": [
    "def lcm(int1, int2):\n",
    "    maxInt = max(int1, int2)\n",
    "    multiplier = maxInt\n",
    "    while(multiplier % int1 != 0 or multiplier % int2 != 0):\n",
    "        multiplier += maxInt\n",
    "    return multiplier"
   ]
  },
  {
   "cell_type": "code",
   "execution_count": 27,
   "metadata": {},
   "outputs": [
    {
     "name": "stdout",
     "output_type": "stream",
     "text": [
      "The least common multiple of 6 and 10 is: 30\n",
      "The least common multiple of 3 and 10 is: 30\n",
      "The least common multiple of 10 and 30 is: 30\n"
     ]
    }
   ],
   "source": [
    "#int1 = 6\n",
    "#int2 = 10\n",
    "#print(f'The least common multiple of {int1} and {int2} is: {lcm(int1,int2)}')\n",
    "\n",
    "print(f'The least common multiple of 6 and 10 is: {lcm(6,10)}')\n",
    "print(f'The least common multiple of 3 and 10 is: {lcm(3,10)}')\n",
    "print(f'The least common multiple of 10 and 30 is: {lcm(10,30)}')"
   ]
  }
 ],
 "metadata": {
  "kernelspec": {
   "display_name": "Python 3",
   "language": "python",
   "name": "python3"
  },
  "language_info": {
   "codemirror_mode": {
    "name": "ipython",
    "version": 3
   },
   "file_extension": ".py",
   "mimetype": "text/x-python",
   "name": "python",
   "nbconvert_exporter": "python",
   "pygments_lexer": "ipython3",
   "version": "3.10.13"
  }
 },
 "nbformat": 4,
 "nbformat_minor": 2
}
