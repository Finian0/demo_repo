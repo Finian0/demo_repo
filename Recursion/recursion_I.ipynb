{
 "cells": [
  {
   "cell_type": "markdown",
   "metadata": {},
   "source": [
    "### Pseudocode for colored_blocks\n",
    "```java\n",
    "INITIALIZE GLOBAL known_cases dictionary as base cases\n",
    "FUNCTION colored_blocks(int n)\n",
    "    IF n in known_cases THEN \n",
    "        RETURN known_cases[n]\n",
    "    ELSE\n",
    "        SET new_case as colored_blocks(n-1) + colored_blocks(n-2) + colored_blocks(n-3) + colored_blocks(n-4)\n",
    "        ADD new_case to known_cases with n as key and new_case as value\n",
    "        RETURN new_case\n",
    "    END IF \n",
    "END FUNCTION\n",
    "```"
   ]
  },
  {
   "cell_type": "code",
   "execution_count": 9,
   "metadata": {},
   "outputs": [
    {
     "name": "stdout",
     "output_type": "stream",
     "text": [
      "100808458960497\n"
     ]
    }
   ],
   "source": [
    "#Default\n",
    "def colored_blocks_default(n):\n",
    "    \"\"\"\n",
    "    :param n: integer n\n",
    "    :return: number of tiles that fit in integer n\n",
    "    \"\"\"\n",
    "\n",
    "    # Base cases\n",
    "    if n == 1:\n",
    "        return 1\n",
    "    elif n == 2:\n",
    "        return 2\n",
    "    elif n == 3:\n",
    "        return 4\n",
    "    elif n == 4:\n",
    "        return 8\n",
    "\n",
    "    # Recursive case\n",
    "    else:\n",
    "        return colored_blocks_default(n - 1) + colored_blocks_default(n - 2) + colored_blocks_default(n - 3) + colored_blocks_default(n - 4)\n",
    "\n",
    "# Has to be a global dictionary so we can access it throughout recursion without reseting it\n",
    "known_cases = {1: 1, 2: 2, 3: 4, 4: 8}\n",
    "\n",
    "#Memoized\n",
    "def colored_blocks(n):\n",
    "    \"\"\"\n",
    "    :param n: integer n\n",
    "    :return: number of tiles that fit in integer n\n",
    "    \"\"\"\n",
    "\n",
    "    global known_cases # allows access to dictionary\n",
    "\n",
    "    # Use the dictionary if value was already calculated\n",
    "    if n in known_cases:\n",
    "        return known_cases[n]\n",
    "    # Recursive case\n",
    "    else:\n",
    "        new_case = colored_blocks(n - 1) + colored_blocks(n - 2) + colored_blocks(n - 3) + colored_blocks(n - 4)\n",
    "\n",
    "        # Update dictionary\n",
    "        known_cases[n] = new_case\n",
    "        return new_case\n",
    "\n",
    "print(colored_blocks(50))\n",
    "#print(colored_blocks_default(30))"
   ]
  },
  {
   "cell_type": "markdown",
   "metadata": {},
   "source": [
    "### Pseudocode for stirling2\n",
    "```java\n",
    "INITIALIZE GLOBAL known_values as dictionary\n",
    "FUNCTION stirling2(int n, int k)\n",
    "    IF known_values is empty THEN\n",
    "        FOR number in range(1, n+1)\n",
    "            SET known_values with key = (number,1) and value to 1\n",
    "            IF number <= k and number > 1 THEN \n",
    "                SET known_values with key = (number,number) and value = 1\n",
    "            END IF\n",
    "        END FOR\n",
    "    END IF\n",
    "    IF (n,k) in known_values THEN\n",
    "        RETURN known_values[(n,k)]\n",
    "    ELSE\n",
    "        SET new_value to stirling2(n-1,k-1) + k * stirling2(n-1,k)\n",
    "        ADD new_value to known_values with key = (n,k) and value = new_value\n",
    "        RETURN \n",
    "    END IF\n",
    "END FUNCTION\n",
    "```"
   ]
  },
  {
   "cell_type": "code",
   "execution_count": 6,
   "metadata": {},
   "outputs": [
    {
     "data": {
      "text/plain": [
       "42525"
      ]
     },
     "execution_count": 6,
     "metadata": {},
     "output_type": "execute_result"
    }
   ],
   "source": [
    "known_values = dict()\n",
    "def stirling2(n,k):\n",
    "    \"\"\"\n",
    "    :params n,k: int n and int k where n is number of objects and k is number of containers to put n objects in\n",
    "    :return: int that represent number of ways n objects could go into k containers\n",
    "    \"\"\"\n",
    "    # Must use a global dictionary as recursion would clear the dictionary\n",
    "    global known_values\n",
    "\n",
    "    if not known_values:\n",
    "        # Used for first time function is called to populate dictionary with base cases dynamically\n",
    "        for number in range(1,n+1):\n",
    "            known_values[(number,1)] = 1 # (n,k) where k=1 will always result in 1 with any given n\n",
    "            if number <= k and number > 1:\n",
    "                known_values[(number,number)] = 1 # (n,k) where k=n will always result in 1\n",
    "    if (n,k) in known_values:\n",
    "        # Return value if found in the dictionary\n",
    "        return known_values[(n,k)]\n",
    "    else:\n",
    "        # Find and add new set to dictionary if not discovered before\n",
    "        new_value = stirling2(n-1,k-1) + k * stirling2(n-1,k)\n",
    "        known_values[(n,k)] = new_value\n",
    "        return new_value\n",
    "\n",
    "stirling2(10,5)"
   ]
  }
 ],
 "metadata": {
  "kernelspec": {
   "display_name": "Python 3",
   "language": "python",
   "name": "python3"
  },
  "language_info": {
   "codemirror_mode": {
    "name": "ipython",
    "version": 3
   },
   "file_extension": ".py",
   "mimetype": "text/x-python",
   "name": "python",
   "nbconvert_exporter": "python",
   "pygments_lexer": "ipython3",
   "version": "3.10.13"
  }
 },
 "nbformat": 4,
 "nbformat_minor": 2
}
