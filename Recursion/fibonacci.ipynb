{
 "cells": [
  {
   "cell_type": "code",
   "execution_count": 3,
   "metadata": {},
   "outputs": [
    {
     "name": "stdout",
     "output_type": "stream",
     "text": [
      "55\n"
     ]
    }
   ],
   "source": [
    "def fibonacci(n):\n",
    "    \"\"\"\n",
    "    Computes the nth Fibonacci number using (top-down) recursion.\n",
    "    The recurrence relation is fibonacci(n) =  fibonacci(n - 1) + fibonacci(n - 2).\n",
    "    The base cases are fibonacci(1) = 1 and fibonacci(2) = 1.\n",
    "\n",
    "    :param n: integer n\n",
    "    :return: the nth Fibonacci number\n",
    "    \"\"\"\n",
    "\n",
    "    # Base cases\n",
    "    if n == 1:\n",
    "        return 1\n",
    "    elif n == 2:\n",
    "        return 1\n",
    "\n",
    "    # Recursive case\n",
    "    else:\n",
    "        return fibonacci(n - 1) + fibonacci(n - 2)\n",
    "\n",
    "print(fibonacci(10))"
   ]
  },
  {
   "cell_type": "code",
   "execution_count": 5,
   "metadata": {},
   "outputs": [
    {
     "ename": "KeyboardInterrupt",
     "evalue": "",
     "output_type": "error",
     "traceback": [
      "\u001b[0;31m---------------------------------------------------------------------------\u001b[0m",
      "\u001b[0;31mKeyboardInterrupt\u001b[0m                         Traceback (most recent call last)",
      "Cell \u001b[0;32mIn[5], line 23\u001b[0m\n\u001b[1;32m     19\u001b[0m     \u001b[38;5;66;03m# Recursive case\u001b[39;00m\n\u001b[1;32m     20\u001b[0m     \u001b[38;5;28;01melse\u001b[39;00m:\n\u001b[1;32m     21\u001b[0m         \u001b[38;5;28;01mreturn\u001b[39;00m tiles(n \u001b[38;5;241m-\u001b[39m \u001b[38;5;241m1\u001b[39m) \u001b[38;5;241m+\u001b[39m tiles(n \u001b[38;5;241m-\u001b[39m \u001b[38;5;241m2\u001b[39m) \u001b[38;5;241m+\u001b[39m tiles(n \u001b[38;5;241m-\u001b[39m \u001b[38;5;241m3\u001b[39m) \u001b[38;5;241m+\u001b[39m tiles(n \u001b[38;5;241m-\u001b[39m \u001b[38;5;241m4\u001b[39m)\n\u001b[0;32m---> 23\u001b[0m \u001b[38;5;28mprint\u001b[39m(\u001b[43mtiles\u001b[49m\u001b[43m(\u001b[49m\u001b[38;5;241;43m70\u001b[39;49m\u001b[43m)\u001b[49m)\n",
      "Cell \u001b[0;32mIn[5], line 21\u001b[0m, in \u001b[0;36mtiles\u001b[0;34m(n)\u001b[0m\n\u001b[1;32m     17\u001b[0m     \u001b[38;5;28;01mreturn\u001b[39;00m \u001b[38;5;241m8\u001b[39m\n\u001b[1;32m     19\u001b[0m \u001b[38;5;66;03m# Recursive case\u001b[39;00m\n\u001b[1;32m     20\u001b[0m \u001b[38;5;28;01melse\u001b[39;00m:\n\u001b[0;32m---> 21\u001b[0m     \u001b[38;5;28;01mreturn\u001b[39;00m \u001b[43mtiles\u001b[49m\u001b[43m(\u001b[49m\u001b[43mn\u001b[49m\u001b[43m \u001b[49m\u001b[38;5;241;43m-\u001b[39;49m\u001b[43m \u001b[49m\u001b[38;5;241;43m1\u001b[39;49m\u001b[43m)\u001b[49m \u001b[38;5;241m+\u001b[39m tiles(n \u001b[38;5;241m-\u001b[39m \u001b[38;5;241m2\u001b[39m) \u001b[38;5;241m+\u001b[39m tiles(n \u001b[38;5;241m-\u001b[39m \u001b[38;5;241m3\u001b[39m) \u001b[38;5;241m+\u001b[39m tiles(n \u001b[38;5;241m-\u001b[39m \u001b[38;5;241m4\u001b[39m)\n",
      "Cell \u001b[0;32mIn[5], line 21\u001b[0m, in \u001b[0;36mtiles\u001b[0;34m(n)\u001b[0m\n\u001b[1;32m     17\u001b[0m     \u001b[38;5;28;01mreturn\u001b[39;00m \u001b[38;5;241m8\u001b[39m\n\u001b[1;32m     19\u001b[0m \u001b[38;5;66;03m# Recursive case\u001b[39;00m\n\u001b[1;32m     20\u001b[0m \u001b[38;5;28;01melse\u001b[39;00m:\n\u001b[0;32m---> 21\u001b[0m     \u001b[38;5;28;01mreturn\u001b[39;00m \u001b[43mtiles\u001b[49m\u001b[43m(\u001b[49m\u001b[43mn\u001b[49m\u001b[43m \u001b[49m\u001b[38;5;241;43m-\u001b[39;49m\u001b[43m \u001b[49m\u001b[38;5;241;43m1\u001b[39;49m\u001b[43m)\u001b[49m \u001b[38;5;241m+\u001b[39m tiles(n \u001b[38;5;241m-\u001b[39m \u001b[38;5;241m2\u001b[39m) \u001b[38;5;241m+\u001b[39m tiles(n \u001b[38;5;241m-\u001b[39m \u001b[38;5;241m3\u001b[39m) \u001b[38;5;241m+\u001b[39m tiles(n \u001b[38;5;241m-\u001b[39m \u001b[38;5;241m4\u001b[39m)\n",
      "    \u001b[0;31m[... skipping similar frames: tiles at line 21 (48 times)]\u001b[0m\n",
      "Cell \u001b[0;32mIn[5], line 21\u001b[0m, in \u001b[0;36mtiles\u001b[0;34m(n)\u001b[0m\n\u001b[1;32m     17\u001b[0m     \u001b[38;5;28;01mreturn\u001b[39;00m \u001b[38;5;241m8\u001b[39m\n\u001b[1;32m     19\u001b[0m \u001b[38;5;66;03m# Recursive case\u001b[39;00m\n\u001b[1;32m     20\u001b[0m \u001b[38;5;28;01melse\u001b[39;00m:\n\u001b[0;32m---> 21\u001b[0m     \u001b[38;5;28;01mreturn\u001b[39;00m tiles(n \u001b[38;5;241m-\u001b[39m \u001b[38;5;241m1\u001b[39m) \u001b[38;5;241m+\u001b[39m tiles(n \u001b[38;5;241m-\u001b[39m \u001b[38;5;241m2\u001b[39m) \u001b[38;5;241m+\u001b[39m tiles(n \u001b[38;5;241m-\u001b[39m \u001b[38;5;241m3\u001b[39m) \u001b[38;5;241m+\u001b[39m \u001b[43mtiles\u001b[49m\u001b[43m(\u001b[49m\u001b[43mn\u001b[49m\u001b[43m \u001b[49m\u001b[38;5;241;43m-\u001b[39;49m\u001b[43m \u001b[49m\u001b[38;5;241;43m4\u001b[39;49m\u001b[43m)\u001b[49m\n",
      "\u001b[0;31mKeyboardInterrupt\u001b[0m: "
     ]
    }
   ],
   "source": [
    "def tiles(n):\n",
    "    \"\"\"\n",
    "    Tiles test\n",
    "\n",
    "    :param n: integer n\n",
    "    :return: number of tiles that fit in integer n\n",
    "    \"\"\"\n",
    "\n",
    "    # Base cases\n",
    "    if n == 1:\n",
    "        return 1\n",
    "    elif n == 2:\n",
    "        return 2\n",
    "    elif n == 3:\n",
    "        return 4\n",
    "    elif n == 4:\n",
    "        return 8\n",
    "\n",
    "    # Recursive case\n",
    "    else:\n",
    "        return tiles(n - 1) + tiles(n - 2) + tiles(n - 3) + tiles(n - 4)\n",
    "\n",
    "print(tiles(70))"
   ]
  },
  {
   "cell_type": "code",
   "execution_count": null,
   "metadata": {},
   "outputs": [],
   "source": [
    "# Need a global dictionary to store known values\n",
    "# The memo is initialized with base cases.\n",
    "known_fib_numbers = {1: 1, 2: 1}\n",
    "\n",
    "def fibonacci_memo(n):\n",
    "    \"\"\"\n",
    "    Computes the nth Fibonacci number using (top-down) recursion.\n",
    "    Results are globally memoized to greatly improve efficiency.\n",
    "    The recurrence relation is fibonacci(n) =  fibonacci(n - 1) + fibonacci(n - 2).\n",
    "    The base cases are fibonacci(1) = 1 and fibonacci(2) = 1.\n",
    "\n",
    "    :param n: integer n\n",
    "    :return: the nth Fibonacci number\n",
    "    \"\"\"\n",
    "\n",
    "    global known_fib_numbers # gives function access to the global scope dictionary\n",
    "\n",
    "    # All previously computed cases (including base cases) are now handled by the dictionary of known values\n",
    "    if n in known_fib_numbers:\n",
    "        return known_fib_numbers[n]\n",
    "\n",
    "    # Recursive case\n",
    "    else:\n",
    "        fib_n = fibonacci_memo(n - 1) + fibonacci_memo(n - 2)\n",
    "\n",
    "        # Update the dictionary of known values before returning\n",
    "        known_fib_numbers[n] = fib_n\n",
    "        return fib_n\n",
    "\n",
    "# print(fibonacci_memo(10))"
   ]
  },
  {
   "cell_type": "code",
   "execution_count": null,
   "metadata": {},
   "outputs": [],
   "source": [
    "# Example of checking whether a data type is empty in Python\n",
    "known = {1:1}\n",
    "\n",
    "if known: # known evaluates to true if there is something in it\n",
    "    print('dict is not empty')\n",
    "else: # known evaluates to false if there is nothing in it\n",
    "    print('dict is empty')"
   ]
  },
  {
   "cell_type": "code",
   "execution_count": null,
   "metadata": {},
   "outputs": [],
   "source": []
  }
 ],
 "metadata": {
  "kernelspec": {
   "display_name": "Python 3",
   "language": "python",
   "name": "python3"
  },
  "language_info": {
   "codemirror_mode": {
    "name": "ipython",
    "version": 3
   },
   "file_extension": ".py",
   "mimetype": "text/x-python",
   "name": "python",
   "nbconvert_exporter": "python",
   "pygments_lexer": "ipython3",
   "version": "3.10.13"
  }
 },
 "nbformat": 4,
 "nbformat_minor": 2
}
