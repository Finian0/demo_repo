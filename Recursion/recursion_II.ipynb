{
 "cells": [
  {
   "cell_type": "markdown",
   "metadata": {},
   "source": []
  },
  {
   "cell_type": "code",
   "execution_count": 30,
   "metadata": {},
   "outputs": [],
   "source": [
    "def merge(arrayOne, arrayTwo):\n",
    "    \"\"\"\n",
    "    :params arrayOne, arrayTwo: arrays to be compared and added to one sorted array\n",
    "    :return: the returned sorted array\n",
    "    \"\"\"\n",
    "    sortedArray = []\n",
    "    while(arrayOne and arrayTwo):\n",
    "        # While loop assumes that both arrays are sorted smalled to largest already\n",
    "        if(arrayOne[0] > arrayTwo[0]):\n",
    "            sortedArray.append(arrayTwo.pop(0))\n",
    "        else:\n",
    "            sortedArray.append(arrayOne.pop(0))\n",
    "\n",
    "    # find and add the last element(s) if a or b still has an element(s)\n",
    "    # use while loops because either array could have 1 or more elements left to add\n",
    "    while(arrayOne):\n",
    "        sortedArray.append(arrayOne.pop(0)) \n",
    "    while(arrayTwo):\n",
    "        sortedArray.append(arrayTwo.pop(0))\n",
    "\n",
    "    return sortedArray\n",
    "\n",
    "\n",
    "def mergesort(arr):\n",
    "    \"\"\"\n",
    "    :param: array of integers to be sorted\n",
    "    :return: sorted given array from smallest to largest. Will modify original array\n",
    "    \"\"\"\n",
    "    arrayLength = len(arr)\n",
    "    if arrayLength == 1: return arr\n",
    "\n",
    "    arrayOne = arr[:int(arrayLength/2)]\n",
    "    arrayTwo = arr[int(arrayLength/2):]\n",
    "\n",
    "    arrayOne = mergesort(arrayOne)\n",
    "    arrayTwo = mergesort(arrayTwo)\n",
    "\n",
    "    return merge(arrayOne, arrayTwo)"
   ]
  },
  {
   "cell_type": "code",
   "execution_count": 31,
   "metadata": {},
   "outputs": [
    {
     "data": {
      "text/plain": [
       "[1, 2, 3, 4, 5, 5, 5, 6, 7, 8, 9]"
      ]
     },
     "execution_count": 31,
     "metadata": {},
     "output_type": "execute_result"
    }
   ],
   "source": [
    "unsortedList = [6, 5, 5, 7, 4, 8, 3, 5, 1, 2, 9]\n",
    "\n",
    "mergesort(unsortedList)"
   ]
  },
  {
   "cell_type": "markdown",
   "metadata": {},
   "source": [
    "### Pseudocode for selection_recursive\n",
    "```java\n",
    "FUNCTION selection_recursive(arr)\n",
    "    IF length of arr == 1\n",
    "        RETURN arr\n",
    "    END IF \n",
    "    SET index to index of largest number in arr\n",
    "    SET largestNumber to arr(index)\n",
    "    REMOVE entry at arr(index)\n",
    "    RETURN selection_recursive(arr) + largestNumber\n",
    "END FUNCTION\n",
    "```"
   ]
  },
  {
   "cell_type": "code",
   "execution_count": 42,
   "metadata": {},
   "outputs": [],
   "source": [
    "def selection_recursive(arr):\n",
    "    \"\"\"\n",
    "    :param arr: an array of integers to be sorted\n",
    "    :return: eventually returns sorted array using recursion\n",
    "    \"\"\"\n",
    "    if len(arr) == 1:\n",
    "        return arr\n",
    "    index = arr.index(max(arr))\n",
    "    largestNumber = arr.pop(index)\n",
    "    return selection_recursive(arr) + [largestNumber] # adds largestNumber to the end and calls selection_recursive to get the next largest number"
   ]
  },
  {
   "cell_type": "code",
   "execution_count": 44,
   "metadata": {},
   "outputs": [
    {
     "data": {
      "text/plain": [
       "[1, 2, 3, 4, 5, 5, 5, 6, 7, 8, 9]"
      ]
     },
     "execution_count": 44,
     "metadata": {},
     "output_type": "execute_result"
    }
   ],
   "source": [
    "unsortedList = [6, 5, 5, 7, 4, 8, 3, 5, 1, 2, 9]\n",
    "\n",
    "selection_recursive(unsortedList)"
   ]
  }
 ],
 "metadata": {
  "kernelspec": {
   "display_name": "Python 3",
   "language": "python",
   "name": "python3"
  },
  "language_info": {
   "codemirror_mode": {
    "name": "ipython",
    "version": 3
   },
   "file_extension": ".py",
   "mimetype": "text/x-python",
   "name": "python",
   "nbconvert_exporter": "python",
   "pygments_lexer": "ipython3",
   "version": "3.10.13"
  }
 },
 "nbformat": 4,
 "nbformat_minor": 2
}
